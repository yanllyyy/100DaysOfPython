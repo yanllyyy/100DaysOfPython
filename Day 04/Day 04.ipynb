{
 "cells": [
  {
   "cell_type": "code",
   "execution_count": 1,
   "id": "55983897-1772-464f-a920-03a28fb6b8db",
   "metadata": {},
   "outputs": [
    {
     "name": "stdout",
     "output_type": "stream",
     "text": [
      "Random number is: 36\n"
     ]
    }
   ],
   "source": [
    "## Task 01\n",
    "import random\n",
    "\n",
    "random_number = random.randint(1,100)\n",
    "print(f\"Random number is: {random_number}\")"
   ]
  },
  {
   "cell_type": "code",
   "execution_count": 2,
   "id": "836c53bf-0d89-48ad-b5a6-2591f70daed1",
   "metadata": {},
   "outputs": [
    {
     "name": "stdout",
     "output_type": "stream",
     "text": [
      "Head\n"
     ]
    }
   ],
   "source": [
    "randomnumber = random.random()\n",
    "if randomnumber>0.5:\n",
    "    print(\"Head\")\n",
    "else :\n",
    "    print(\"Tails\")"
   ]
  },
  {
   "cell_type": "code",
   "execution_count": 3,
   "id": "a4786aad-5187-437d-a312-e9931d9d4cf2",
   "metadata": {},
   "outputs": [
    {
     "name": "stdout",
     "output_type": "stream",
     "text": [
      "0.5307461077588603 Head\n"
     ]
    }
   ],
   "source": [
    "randomnumber = random.uniform(0,1) ## Random float number between 0 and 1\n",
    "if randomnumber>0.5:\n",
    "    print(f\"{randomnumber} Head\")\n",
    "else :\n",
    "    print(f\"{randomnumber} Tails\")"
   ]
  },
  {
   "cell_type": "code",
   "execution_count": 4,
   "id": "6879a851-8232-4d9a-8ed4-dbc376d5869e",
   "metadata": {},
   "outputs": [],
   "source": [
    "## Task 02\n",
    "\n",
    "states_of_america = [\"Delaware\", \"Pennsylvania\", \"New Jersey\", \"Georgia\", \"Connecticut\", \"Massachusetts\", \"Maryland\", \"South Carolina\", \"New Hampshire\", \"Virginia\", \"New York\", \"North Carolina\", \"Rhode Island\", \"Vermont\", \"Kentucky\", \"Tennessee\", \"Ohio\", \"Louisiana\", \"Indiana\", \"Mississippi\", \"Illinois\", \"Alabama\", \"Maine\", \"Missouri\", \"Arkansas\", \"Michigan\", \"Florida\", \"Texas\", \"Iowa\", \"Wisconsin\", \"California\", \"Minnesota\", \"Oregon\", \"Kansas\", \"West Virginia\", \"Nevada\", \"Nebraska\", \"Colorado\", \"North Dakota\", \"South Dakota\", \"Montana\", \"Washington\", \"Idaho\", \"Wyoming\", \"Utah\", \"Oklahoma\", \"New Mexico\", \"Arizona\", \"Alaska\", \"Hawaii\"]"
   ]
  },
  {
   "cell_type": "code",
   "execution_count": 5,
   "id": "21013eee-276d-4d04-b412-9c0af0233f2c",
   "metadata": {},
   "outputs": [
    {
     "data": {
      "text/plain": [
       "'Delaware'"
      ]
     },
     "execution_count": 5,
     "metadata": {},
     "output_type": "execute_result"
    }
   ],
   "source": [
    "states_of_america[0]"
   ]
  },
  {
   "cell_type": "code",
   "execution_count": 6,
   "id": "5233a338-184c-4e45-bc2e-fdff32fbb644",
   "metadata": {},
   "outputs": [
    {
     "data": {
      "text/plain": [
       "'Hawaii'"
      ]
     },
     "execution_count": 6,
     "metadata": {},
     "output_type": "execute_result"
    }
   ],
   "source": [
    "states_of_america[-1]"
   ]
  },
  {
   "cell_type": "code",
   "execution_count": 7,
   "id": "694cae7b-0702-4873-876c-e05d33ed8017",
   "metadata": {},
   "outputs": [
    {
     "data": {
      "text/plain": [
       "'Pear'"
      ]
     },
     "execution_count": 7,
     "metadata": {},
     "output_type": "execute_result"
    }
   ],
   "source": [
    "fruits = [\"Cherry\", \"Apple\", \"Pear\"]\n",
    "fruits[-1] #this will be \"Pear\""
   ]
  },
  {
   "cell_type": "code",
   "execution_count": 8,
   "id": "768abdd3-6680-4c68-b256-7cf19b358e81",
   "metadata": {},
   "outputs": [
    {
     "data": {
      "text/plain": [
       "['Cherry', 'Apple', 'Pear']"
      ]
     },
     "execution_count": 8,
     "metadata": {},
     "output_type": "execute_result"
    }
   ],
   "source": [
    "fruits"
   ]
  },
  {
   "cell_type": "code",
   "execution_count": 9,
   "id": "1232abbd-6857-423d-9796-824d909f47fa",
   "metadata": {},
   "outputs": [],
   "source": [
    "fruits[1] = \"Orange\""
   ]
  },
  {
   "cell_type": "code",
   "execution_count": 10,
   "id": "cf78f335-dbd1-473b-8f68-26182f613f97",
   "metadata": {},
   "outputs": [
    {
     "data": {
      "text/plain": [
       "['Cherry', 'Orange', 'Pear']"
      ]
     },
     "execution_count": 10,
     "metadata": {},
     "output_type": "execute_result"
    }
   ],
   "source": [
    "fruits"
   ]
  },
  {
   "cell_type": "code",
   "execution_count": 11,
   "id": "c4f35c57-8c3a-4590-9a10-a0f378fbd041",
   "metadata": {},
   "outputs": [],
   "source": [
    "fruits = [\"Cherry\", \"Apple\", \"Pear\"]\n",
    "fruits.append(\"Orange\")\n",
    "# fruits will now become [\"Cherry\", \"Apple\", \"Pear\", \"Orange\"]"
   ]
  },
  {
   "cell_type": "code",
   "execution_count": 12,
   "id": "faf39741-271e-40c5-8205-c34379c1c2ba",
   "metadata": {},
   "outputs": [
    {
     "data": {
      "text/plain": [
       "['Cherry', 'Apple', 'Pear', 'Orange']"
      ]
     },
     "execution_count": 12,
     "metadata": {},
     "output_type": "execute_result"
    }
   ],
   "source": [
    "fruits"
   ]
  },
  {
   "cell_type": "code",
   "execution_count": 13,
   "id": "04b2f22d-9e5f-4a94-a070-e37528cd756a",
   "metadata": {},
   "outputs": [
    {
     "data": {
      "text/plain": [
       "['Cherry', 'Apple', 'Pear', 'Orange', 'Mango']"
      ]
     },
     "execution_count": 13,
     "metadata": {},
     "output_type": "execute_result"
    }
   ],
   "source": [
    "fruits.append(\"Mango\")\n",
    "fruits"
   ]
  },
  {
   "cell_type": "code",
   "execution_count": 14,
   "id": "60fb9d76-2001-4642-bcf5-2a5df3c4d314",
   "metadata": {},
   "outputs": [
    {
     "name": "stdout",
     "output_type": "stream",
     "text": [
      "['Cherry', 'Apple', 'Pear', 'Orange', 'Mango']\n",
      "Apple\n",
      "Mango\n",
      "Apple\n"
     ]
    }
   ],
   "source": [
    "print(fruits)\n",
    "print(fruits[1])\n",
    "print(fruits[-1])\n",
    "print(fruits[-4])"
   ]
  },
  {
   "cell_type": "code",
   "execution_count": 15,
   "id": "0c25f20e-8ad1-42a9-98f1-8d78caf9bb6f",
   "metadata": {},
   "outputs": [
    {
     "name": "stdout",
     "output_type": "stream",
     "text": [
      "David have index 3\n"
     ]
    }
   ],
   "source": [
    "## Task 03\n",
    "friends = [\"Alice\", \"Bob\", \"Charlie\", \"David\", \"Emanuel\"]\n",
    "import random\n",
    "\n",
    "index = random.randint(0,4)\n",
    "print(f\"{friends[index]} have index {index}\")"
   ]
  },
  {
   "cell_type": "code",
   "execution_count": 16,
   "id": "a4fe05af-f702-4ba7-adae-4b0720ce10dd",
   "metadata": {},
   "outputs": [
    {
     "name": "stdout",
     "output_type": "stream",
     "text": [
      "Alice\n"
     ]
    }
   ],
   "source": [
    "print(random.choice(friends))"
   ]
  },
  {
   "cell_type": "code",
   "execution_count": 17,
   "id": "639a3dfe-3001-4ad3-bbfe-32e0ca7ce11b",
   "metadata": {},
   "outputs": [
    {
     "name": "stdout",
     "output_type": "stream",
     "text": [
      "50\n",
      "['Delaware', 'Pennsylvania', 'New Jersey', 'Georgia', 'Connecticut', 'Massachusetts', 'Maryland', 'South Carolina', 'New Hampshire', 'Virginia', 'New York', 'North Carolina', 'Rhode Island', 'Vermont', 'Kentucky', 'Tennessee', 'Ohio', 'Louisiana', 'Indiana', 'Mississippi', 'Illinois', 'Alabama', 'Maine', 'Missouri', 'Arkansas', 'Michigan', 'Florida', 'Texas', 'Iowa', 'Wisconsin', 'California', 'Minnesota', 'Oregon', 'Kansas', 'West Virginia', 'Nevada', 'Nebraska', 'Colorado', 'North Dakota', 'South Dakota', 'Montana', 'Washington', 'Idaho', 'Wyoming', 'Utah', 'Oklahoma', 'New Mexico', 'Arizona', 'Alaska', 'Hawaii']\n"
     ]
    }
   ],
   "source": [
    "## Task 04\n",
    "states_of_america = [\"Delaware\", \"Pennsylvania\", \"New Jersey\", \"Georgia\", \"Connecticut\", \"Massachusetts\", \"Maryland\",\n",
    "                     \"South Carolina\", \"New Hampshire\", \"Virginia\", \"New York\", \"North Carolina\", \"Rhode Island\",\n",
    "                     \"Vermont\", \"Kentucky\", \"Tennessee\", \"Ohio\", \"Louisiana\", \"Indiana\", \"Mississippi\", \"Illinois\",\n",
    "                     \"Alabama\", \"Maine\", \"Missouri\", \"Arkansas\", \"Michigan\", \"Florida\", \"Texas\", \"Iowa\", \"Wisconsin\",\n",
    "                     \"California\", \"Minnesota\", \"Oregon\", \"Kansas\", \"West Virginia\", \"Nevada\", \"Nebraska\", \"Colorado\",\n",
    "                     \"North Dakota\", \"South Dakota\", \"Montana\", \"Washington\", \"Idaho\", \"Wyoming\", \"Utah\", \"Oklahoma\",\n",
    "                     \"New Mexico\", \"Arizona\", \"Alaska\", \"Hawaii\"]\n",
    "print(len(states_of_america))\n",
    "print(states_of_america)"
   ]
  },
  {
   "cell_type": "code",
   "execution_count": 18,
   "id": "e0484b6d-21f8-4f88-97f9-02ba0993b29e",
   "metadata": {},
   "outputs": [
    {
     "name": "stdout",
     "output_type": "stream",
     "text": [
      "fruits : ['Cherry', 'Apple', 'Pear']\n",
      "vegetables : ['Cucumber', 'Kale', 'Spinnach']\n",
      "Fruits and Veg : [['Cherry', 'Apple', 'Pear'], ['Cucumber', 'Kale', 'Spinnach']]\n"
     ]
    }
   ],
   "source": [
    "fruits = [\"Cherry\", \"Apple\", \"Pear\"]\n",
    "veg = [\"Cucumber\", \"Kale\", \"Spinnach\"]\n",
    "fruits_and_veg = [fruits, veg]\n",
    "\n",
    "print(f\"fruits : {fruits}\")\n",
    "print(f\"vegetables : {veg}\")\n",
    "print(f\"Fruits and Veg : {fruits_and_veg}\")"
   ]
  },
  {
   "cell_type": "code",
   "execution_count": 21,
   "id": "a498fd6c-d6d7-4bd8-8722-eb638b4f0362",
   "metadata": {},
   "outputs": [
    {
     "name": "stdin",
     "output_type": "stream",
     "text": [
      "What do you choose? Type 0 for Rock, 1 for Paper or 2 for Scissors.\n",
      " 1\n"
     ]
    },
    {
     "name": "stdout",
     "output_type": "stream",
     "text": [
      "\n",
      "    _______\n",
      "---'   ____)____\n",
      "          ______)\n",
      "          _______)\n",
      "         _______)\n",
      "---.__________)\n",
      "\n",
      "Computer chose:\n",
      "\n",
      "    _______\n",
      "---'   ____)____\n",
      "          ______)\n",
      "       __________)\n",
      "      (____)\n",
      "---.__(___)\n",
      "\n",
      "You lose!\n"
     ]
    }
   ],
   "source": [
    "import random\n",
    "\n",
    "rock = '''\n",
    "    _______\n",
    "---'   ____)\n",
    "      (_____)\n",
    "      (_____)\n",
    "      (____)\n",
    "---.__(___)\n",
    "'''\n",
    "\n",
    "paper = '''\n",
    "    _______\n",
    "---'   ____)____\n",
    "          ______)\n",
    "          _______)\n",
    "         _______)\n",
    "---.__________)\n",
    "'''\n",
    "\n",
    "scissors = '''\n",
    "    _______\n",
    "---'   ____)____\n",
    "          ______)\n",
    "       __________)\n",
    "      (____)\n",
    "---.__(___)\n",
    "'''\n",
    "\n",
    "game_images = [rock, paper, scissors]\n",
    "\n",
    "user_choice = int(input(\"What do you choose? Type 0 for Rock, 1 for Paper or 2 for Scissors.\\n\"))\n",
    "# Note: it's worth checking if the user has made a valid choice before the next line of code.\n",
    "# If the user typed somthing other than 0, 1 or 2 the next line will give you an error.\n",
    "# You could for example write:\n",
    "if user_choice >= 0 and user_choice <= 2:\n",
    "    print(game_images[user_choice])\n",
    "\n",
    "computer_choice = random.randint(0, 2)\n",
    "print(\"Computer chose:\")\n",
    "print(game_images[computer_choice])\n",
    "\n",
    "if user_choice >= 3 or user_choice < 0:\n",
    "    print(\"You typed an invalid number. You lose!\")\n",
    "elif user_choice == 0 and computer_choice == 2:\n",
    "    print(\"You win!\")\n",
    "elif computer_choice == 0 and user_choice == 2:\n",
    "    print(\"You lose!\")\n",
    "elif computer_choice > user_choice:\n",
    "    print(\"You lose!\")\n",
    "elif user_choice > computer_choice:\n",
    "    print(\"You win!\")\n",
    "elif computer_choice == user_choice:\n",
    "    print(\"It's a draw!\")"
   ]
  },
  {
   "cell_type": "code",
   "execution_count": 22,
   "id": "c434dd7a-2c92-4cf8-8590-0e7f4b5bccfe",
   "metadata": {},
   "outputs": [
    {
     "name": "stdout",
     "output_type": "stream",
     "text": [
      "Kale\n"
     ]
    }
   ],
   "source": [
    "ruits = [\"Strawberries\", \"Nectarines\", \"Apples\", \"Grapes\", \"Peaches\", \"Cherries\", \"Pears\"]\n",
    "vegetables = [\"Spinach\", \"Kale\", \"Tomatoes\", \"Celery\", \"Potatoes\"]\n",
    " \n",
    "dirty_dozen = [fruits, vegetables]\n",
    " \n",
    "print(dirty_dozen[1][1])"
   ]
  },
  {
   "cell_type": "code",
   "execution_count": 23,
   "id": "07d66cd7-64a5-449a-88f4-1ec79793e38d",
   "metadata": {},
   "outputs": [
    {
     "name": "stdout",
     "output_type": "stream",
     "text": [
      "[['Cherry', 'Apple', 'Pear'], ['Spinach', 'Kale', 'Tomatoes', 'Celery', 'Potatoes']]\n",
      "['Cherry', 'Apple', 'Pear']\n",
      "['Spinach', 'Kale', 'Tomatoes', 'Celery', 'Potatoes']\n",
      "Tomatoes\n",
      "Celery\n"
     ]
    }
   ],
   "source": [
    "print(dirty_dozen)\n",
    "\n",
    "print(dirty_dozen[0])\n",
    "print(dirty_dozen[1])\n",
    "\n",
    "\n",
    "print(dirty_dozen[1][2])\n",
    "print(dirty_dozen[1][3])"
   ]
  },
  {
   "cell_type": "code",
   "execution_count": null,
   "id": "0612b80c-6511-45ef-917d-75b82c45a49e",
   "metadata": {},
   "outputs": [],
   "source": []
  }
 ],
 "metadata": {
  "kernelspec": {
   "display_name": "Python 3 (ipykernel)",
   "language": "python",
   "name": "python3"
  },
  "language_info": {
   "codemirror_mode": {
    "name": "ipython",
    "version": 3
   },
   "file_extension": ".py",
   "mimetype": "text/x-python",
   "name": "python",
   "nbconvert_exporter": "python",
   "pygments_lexer": "ipython3",
   "version": "3.12.7"
  }
 },
 "nbformat": 4,
 "nbformat_minor": 5
}
