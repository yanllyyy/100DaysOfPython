{
 "cells": [
  {
   "cell_type": "code",
   "execution_count": 6,
   "id": "de2e40c1-a7a2-467e-ba36-89170f523b03",
   "metadata": {},
   "outputs": [
    {
     "name": "stdout",
     "output_type": "stream",
     "text": [
      "1\n",
      "2\n",
      "3\n",
      "4\n",
      "5\n",
      "6\n",
      "7\n",
      "8\n",
      "9\n",
      "10\n",
      "11\n",
      "12\n",
      "13\n",
      "14\n",
      "15\n",
      "16\n",
      "17\n",
      "18\n",
      "19\n",
      "20\n",
      "You got it\n"
     ]
    }
   ],
   "source": [
    "def my_function():\n",
    "    for i in range(1, 21):\n",
    "        print(i)\n",
    "        if i == 20:\n",
    "            print(\"You got it\")\n",
    "\n",
    "\n",
    "my_function()\n"
   ]
  },
  {
   "cell_type": "code",
   "execution_count": 3,
   "id": "b3e00773-2484-4acb-a1bf-55821ca4a8cb",
   "metadata": {},
   "outputs": [
    {
     "name": "stdin",
     "output_type": "stream",
     "text": [
      "How old are you? 45\n"
     ]
    },
    {
     "name": "stdout",
     "output_type": "stream",
     "text": [
      "You can drive at age 45.\n"
     ]
    }
   ],
   "source": [
    "## Debugging\n",
    "age = int(input(\"How old are you?\"))\n",
    "if age > 18:\n",
    "    print(f\"You can drive at age {age}.\")\n"
   ]
  },
  {
   "cell_type": "code",
   "execution_count": 10,
   "id": "c6a4cbc0-d93e-426e-866c-b3bf23e22290",
   "metadata": {},
   "outputs": [
    {
     "name": "stdin",
     "output_type": "stream",
     "text": [
      "What's your year of birth? 1994\n"
     ]
    },
    {
     "name": "stdout",
     "output_type": "stream",
     "text": [
      "You are a Gen Z.\n"
     ]
    }
   ],
   "source": [
    "year = int(input(\"What's your year of birth?\"))\n",
    "\n",
    "if year > 1980 and year < 1994:\n",
    "    print(\"You are a millennial.\")\n",
    "elif year >= 1994:\n",
    "    print(\"You are a Gen Z.\")\n"
   ]
  },
  {
   "cell_type": "code",
   "execution_count": 31,
   "id": "b166fe62-594f-4920-83b2-095803ca2eb1",
   "metadata": {},
   "outputs": [
    {
     "name": "stdout",
     "output_type": "stream",
     "text": [
      "❻\n"
     ]
    }
   ],
   "source": [
    "from random import randint\n",
    "dice_images = [\"❶\", \"❷\", \"❸\", \"❹\", \"❺\", \"❻\"]\n",
    "dice_num = randint(0, 5)\n",
    "print(dice_images[dice_num])\n"
   ]
  },
  {
   "cell_type": "code",
   "execution_count": 24,
   "id": "0b095304-350e-4ec4-ad75-a1ea0512a032",
   "metadata": {},
   "outputs": [
    {
     "name": "stdout",
     "output_type": "stream",
     "text": [
      "2\n",
      "5\n",
      "6\n",
      "4\n",
      "5\n",
      "7\n",
      "6\n",
      "8\n",
      "11\n",
      "10\n",
      "11\n",
      "16\n",
      "16\n",
      "18\n",
      "26\n",
      "26\n",
      "29\n",
      "42\n",
      "[42]\n"
     ]
    }
   ],
   "source": [
    "import random\n",
    "\n",
    "def add(n1, n2):\n",
    "    return n1 + n2\n",
    "\n",
    "\n",
    "def mutate(a_list):\n",
    "    b_list = []\n",
    "    new_item = 0\n",
    "    for item in a_list:\n",
    "        \n",
    "        new_item = item * 2\n",
    "        print(new_item)\n",
    "        new_item += random.randint(1, 3)\n",
    "        print(new_item)\n",
    "        new_item = add(new_item, item)\n",
    "        print(new_item)\n",
    "    b_list.append(new_item)\n",
    "    print(b_list)\n",
    "\n",
    "\n",
    "mutate([1, 2, 3, 5, 8, 13])\n"
   ]
  },
  {
   "cell_type": "code",
   "execution_count": 4,
   "id": "d693b6bf-158c-4c16-9758-3c32be568b78",
   "metadata": {},
   "outputs": [
    {
     "name": "stdout",
     "output_type": "stream",
     "text": [
      "[5]\n",
      "[5, 7]\n",
      "[5, 7, 12]\n",
      "[5, 7, 12, 16]\n",
      "[5, 7, 12, 16, 27]\n",
      "[5, 7, 12, 16, 27, 42]\n"
     ]
    }
   ],
   "source": [
    "import random\n",
    "\n",
    "def add(n1, n2):\n",
    "    return n1 + n2\n",
    "\n",
    "\n",
    "def mutate(a_list):\n",
    "    b_list = []\n",
    "    new_item = 0\n",
    "    for item in a_list:\n",
    "        \n",
    "        new_item = item * 2\n",
    "        new_item += random.randint(1, 3)\n",
    "        new_item = add(new_item, item)\n",
    "        b_list.append(new_item)\n",
    "        print(b_list)\n",
    "\n",
    "\n",
    "mutate([1, 2, 3, 5, 8, 13])\n"
   ]
  },
  {
   "cell_type": "code",
   "execution_count": 22,
   "id": "497a6262-e6b5-472a-be1c-23398c44de2b",
   "metadata": {},
   "outputs": [
    {
     "name": "stdin",
     "output_type": "stream",
     "text": [
      "Number of pages:  25\n",
      "Number of words per page:  10\n"
     ]
    },
    {
     "name": "stdout",
     "output_type": "stream",
     "text": [
      "250\n"
     ]
    }
   ],
   "source": [
    "word_per_page = 0\n",
    "pages = int(input(\"Number of pages: \"))\n",
    "word_per_page = int(input(\"Number of words per page: \"))\n",
    "total_words = pages * word_per_page\n",
    "print(total_words)"
   ]
  },
  {
   "cell_type": "code",
   "execution_count": 3,
   "id": "e627a0c0-7056-412b-8691-d8740d1ec78f",
   "metadata": {},
   "outputs": [
    {
     "name": "stdin",
     "output_type": "stream",
     "text": [
      "How old are you? ten\n"
     ]
    },
    {
     "name": "stdout",
     "output_type": "stream",
     "text": [
      "Pls enter numeric value\n"
     ]
    },
    {
     "name": "stdin",
     "output_type": "stream",
     "text": [
      "How old are you? 10\n"
     ]
    },
    {
     "name": "stdout",
     "output_type": "stream",
     "text": [
      "You can drive at 18 not at 10.\n"
     ]
    }
   ],
   "source": [
    "## Exception handing\n",
    "try :\n",
    "    age = int(input(\"How old are you?\"))\n",
    "except ValueError:\n",
    "    print(\"Pls enter numeric value\")            \n",
    "    age = int(input(\"How old are you?\"))\n",
    "\n",
    "if age > 18:\n",
    "    print(f\"You can drive at age {age}.\")\n",
    "else:\n",
    "    print(f\"You can drive at 18 not at {age}.\")\n"
   ]
  },
  {
   "cell_type": "code",
   "execution_count": null,
   "id": "7e70d710-c2a2-49ad-bdbe-1d066a6d9e86",
   "metadata": {},
   "outputs": [],
   "source": []
  }
 ],
 "metadata": {
  "kernelspec": {
   "display_name": "Python 3 (ipykernel)",
   "language": "python",
   "name": "python3"
  },
  "language_info": {
   "codemirror_mode": {
    "name": "ipython",
    "version": 3
   },
   "file_extension": ".py",
   "mimetype": "text/x-python",
   "name": "python",
   "nbconvert_exporter": "python",
   "pygments_lexer": "ipython3",
   "version": "3.12.7"
  }
 },
 "nbformat": 4,
 "nbformat_minor": 5
}
