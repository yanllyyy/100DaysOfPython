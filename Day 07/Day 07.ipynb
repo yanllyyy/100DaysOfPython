{
 "cells": [
  {
   "cell_type": "markdown",
   "id": "6e0cc693-15d9-4108-a515-5c5531f29c53",
   "metadata": {},
   "source": [
    "\n",
    "###### TODO-1 - Randomly choose a word from the word_list and assign it to a variable called chosen_word. Then print it.\n",
    "\n",
    "###### TODO-2 - Ask the user to guess a letter and assign their answer to a variable called guess. Make guess lowercase.\n",
    "\n",
    "###### TODO-3 - Check if the letter the user guessed (guess) is one of the letters in the chosen_word. Print \"Right\" if it\n",
    "######  is, \"Wrong\" if it's not.\n"
   ]
  },
  {
   "cell_type": "code",
   "execution_count": 59,
   "id": "473bea58-82c0-4eb8-b6ba-4b1e7c367487",
   "metadata": {},
   "outputs": [],
   "source": [
    "word_list = [\"aardvark\", \"baboon\", \"camel\"]"
   ]
  },
  {
   "cell_type": "code",
   "execution_count": 60,
   "id": "30ead76f-196c-4d60-a3a2-08ae4b8c6f1a",
   "metadata": {},
   "outputs": [],
   "source": [
    "import random"
   ]
  },
  {
   "cell_type": "code",
   "execution_count": 61,
   "id": "eb2a655b-0492-4d24-a045-0f768babb789",
   "metadata": {},
   "outputs": [],
   "source": [
    "word = random.choice(word_list)"
   ]
  },
  {
   "cell_type": "code",
   "execution_count": 62,
   "id": "f1c2236d-143a-4e6d-86db-c7d4916a185f",
   "metadata": {},
   "outputs": [
    {
     "data": {
      "text/plain": [
       "'camel'"
      ]
     },
     "execution_count": 62,
     "metadata": {},
     "output_type": "execute_result"
    }
   ],
   "source": [
    "word"
   ]
  },
  {
   "cell_type": "code",
   "execution_count": 63,
   "id": "55f0892b-a118-4d66-9bb2-a62e307b81f4",
   "metadata": {},
   "outputs": [
    {
     "name": "stdin",
     "output_type": "stream",
     "text": [
      "Guess the letter? a\n"
     ]
    },
    {
     "data": {
      "text/plain": [
       "'a'"
      ]
     },
     "execution_count": 63,
     "metadata": {},
     "output_type": "execute_result"
    }
   ],
   "source": [
    "guess = input(\"Guess the letter?\").lower()\n",
    "guess"
   ]
  },
  {
   "cell_type": "code",
   "execution_count": 64,
   "id": "40f393f5-dc01-47fa-be2f-b4afe549ba3b",
   "metadata": {},
   "outputs": [
    {
     "name": "stdout",
     "output_type": "stream",
     "text": [
      "Wrong\n",
      "Right\n",
      "Wrong\n",
      "Wrong\n",
      "Wrong\n"
     ]
    }
   ],
   "source": [
    "for i in range(len(word)):\n",
    "    if guess == word[i]:\n",
    "        print(\"Right\")\n",
    "    else:\n",
    "        print(\"Wrong\")"
   ]
  },
  {
   "cell_type": "code",
   "execution_count": 65,
   "id": "df34dd64-9c02-4d96-9db7-33d969dfe8ab",
   "metadata": {},
   "outputs": [
    {
     "name": "stdout",
     "output_type": "stream",
     "text": [
      "_ _ _ _ _ \n"
     ]
    }
   ],
   "source": [
    "placeholder = \"\"\n",
    "word_length = len(word)\n",
    "for posistion in range(word_length):\n",
    "    placeholder+=\"_ \"\n",
    "print(placeholder)"
   ]
  },
  {
   "cell_type": "code",
   "execution_count": 66,
   "id": "ec6f72e5-5a1f-4823-849e-72d10a951de0",
   "metadata": {},
   "outputs": [],
   "source": [
    "display  =\"\"\n",
    "for letter in word:\n",
    "    if letter == guess :\n",
    "        display+= letter\n",
    "    else:\n",
    "        display+=\"_ \""
   ]
  },
  {
   "cell_type": "code",
   "execution_count": 67,
   "id": "e9f1e378-e342-44d3-9115-f1828186ee2f",
   "metadata": {},
   "outputs": [
    {
     "data": {
      "text/plain": [
       "'_ a_ _ _ '"
      ]
     },
     "execution_count": 67,
     "metadata": {},
     "output_type": "execute_result"
    }
   ],
   "source": [
    "display"
   ]
  },
  {
   "cell_type": "code",
   "execution_count": 68,
   "id": "edbac306-5d27-4fa2-b3ea-3f5d25b4f32e",
   "metadata": {},
   "outputs": [
    {
     "name": "stdin",
     "output_type": "stream",
     "text": [
      "Guess the word:  b\n"
     ]
    },
    {
     "name": "stdout",
     "output_type": "stream",
     "text": [
      "_ _ _ _ _ \n"
     ]
    },
    {
     "name": "stdin",
     "output_type": "stream",
     "text": [
      "Guess the word: v\n"
     ]
    },
    {
     "name": "stdout",
     "output_type": "stream",
     "text": [
      "_ _ _ _ _ \n"
     ]
    },
    {
     "name": "stdin",
     "output_type": "stream",
     "text": [
      "Guess the word: b\n"
     ]
    },
    {
     "name": "stdout",
     "output_type": "stream",
     "text": [
      "_ _ _ _ _ \n"
     ]
    },
    {
     "name": "stdin",
     "output_type": "stream",
     "text": [
      "Guess the word: v\n"
     ]
    },
    {
     "name": "stdout",
     "output_type": "stream",
     "text": [
      "_ _ _ _ _ \n"
     ]
    },
    {
     "name": "stdin",
     "output_type": "stream",
     "text": [
      "Guess the word: h\n"
     ]
    },
    {
     "name": "stdout",
     "output_type": "stream",
     "text": [
      "_ _ _ _ _ \n"
     ]
    },
    {
     "name": "stdin",
     "output_type": "stream",
     "text": [
      "Guess the word: f\n"
     ]
    },
    {
     "name": "stdout",
     "output_type": "stream",
     "text": [
      "_ _ _ _ _ \n"
     ]
    },
    {
     "name": "stdin",
     "output_type": "stream",
     "text": [
      "Guess the word: c\n"
     ]
    },
    {
     "name": "stdout",
     "output_type": "stream",
     "text": [
      "c_ _ _ _ \n"
     ]
    },
    {
     "name": "stdin",
     "output_type": "stream",
     "text": [
      "Guess the word: a\n"
     ]
    },
    {
     "name": "stdout",
     "output_type": "stream",
     "text": [
      "ca_ _ _ \n"
     ]
    },
    {
     "name": "stdin",
     "output_type": "stream",
     "text": [
      "Guess the word: m\n"
     ]
    },
    {
     "name": "stdout",
     "output_type": "stream",
     "text": [
      "cam_ _ \n"
     ]
    },
    {
     "name": "stdin",
     "output_type": "stream",
     "text": [
      "Guess the word: e\n"
     ]
    },
    {
     "name": "stdout",
     "output_type": "stream",
     "text": [
      "came_ \n"
     ]
    },
    {
     "name": "stdin",
     "output_type": "stream",
     "text": [
      "Guess the word: l\n"
     ]
    },
    {
     "name": "stdout",
     "output_type": "stream",
     "text": [
      "camel\n",
      "You win!\n"
     ]
    }
   ],
   "source": [
    "placeholder = \"\"\n",
    "word_length = len(word)\n",
    "for posistion in range(word_length):\n",
    "    placeholder+=\"_ \"\n",
    "game_over = False\n",
    "correct_letters =[]\n",
    "while not game_over:\n",
    "    guess = input(\"Guess the word:\")\n",
    "    display  =\"\"\n",
    "    for letter in word:\n",
    "        if letter == guess :\n",
    "            display+= letter\n",
    "            correct_letters.append(letter)\n",
    "        elif letter in correct_letters:\n",
    "            display+= letter\n",
    "        else:\n",
    "            display+=\"_ \"\n",
    "    print(display)\n",
    "    if \"_\" not in display:\n",
    "        game_over=True\n",
    "        print(\"You win!\")"
   ]
  },
  {
   "cell_type": "code",
   "execution_count": 69,
   "id": "3fd2d26a-c3fd-47ce-824e-888d37b0b9ad",
   "metadata": {},
   "outputs": [
    {
     "name": "stdin",
     "output_type": "stream",
     "text": [
      "Guess the word: e\n"
     ]
    },
    {
     "name": "stdout",
     "output_type": "stream",
     "text": [
      "_ _ _ e_ \n"
     ]
    },
    {
     "name": "stdin",
     "output_type": "stream",
     "text": [
      "Guess the word: a\n"
     ]
    },
    {
     "name": "stdout",
     "output_type": "stream",
     "text": [
      "_ a_ e_ \n"
     ]
    },
    {
     "name": "stdin",
     "output_type": "stream",
     "text": [
      "Guess the word: d\n"
     ]
    },
    {
     "name": "stdout",
     "output_type": "stream",
     "text": [
      "_ a_ e_ \n"
     ]
    },
    {
     "name": "stdin",
     "output_type": "stream",
     "text": [
      "Guess the word: c\n"
     ]
    },
    {
     "name": "stdout",
     "output_type": "stream",
     "text": [
      "ca_ e_ \n"
     ]
    },
    {
     "name": "stdin",
     "output_type": "stream",
     "text": [
      "Guess the word: m\n"
     ]
    },
    {
     "name": "stdout",
     "output_type": "stream",
     "text": [
      "came_ \n"
     ]
    },
    {
     "name": "stdin",
     "output_type": "stream",
     "text": [
      "Guess the word: l\n"
     ]
    },
    {
     "name": "stdout",
     "output_type": "stream",
     "text": [
      "camel\n",
      "You win!\n"
     ]
    }
   ],
   "source": [
    "placeholder = \"\"\n",
    "word_length = len(word)\n",
    "for posistion in range(word_length):\n",
    "    placeholder+=\"_ \"\n",
    "game_over = False\n",
    "correct_letters =[]\n",
    "life = 6\n",
    "while not game_over:\n",
    "    guess = input(\"Guess the word:\")\n",
    "    display  =\"\"\n",
    "    for letter in word:\n",
    "        if letter == guess :\n",
    "            display+= letter\n",
    "            correct_letters.append(letter)\n",
    "        elif letter in correct_letters:\n",
    "            display+= letter\n",
    "        else:\n",
    "            \n",
    "            display+=\"_ \"\n",
    "    print(display)\n",
    "    if guess not in correct_letters:\n",
    "        life-=1\n",
    "        if life ==0:\n",
    "            game_over=True\n",
    "            print(\"You Loose!\")\n",
    "                  \n",
    "    if \"_\" not in display:\n",
    "        game_over=True\n",
    "        print(\"You win!\")"
   ]
  },
  {
   "cell_type": "code",
   "execution_count": 70,
   "id": "b51cfdfd-29da-4c24-a303-ee64500fc8b6",
   "metadata": {},
   "outputs": [
    {
     "name": "stdout",
     "output_type": "stream",
     "text": [
      "You have 6 lives left\n"
     ]
    },
    {
     "name": "stdin",
     "output_type": "stream",
     "text": [
      "Guess the word: a\n"
     ]
    },
    {
     "name": "stdout",
     "output_type": "stream",
     "text": [
      "_ a_ _ _ \n",
      "You have 6 lives left\n"
     ]
    },
    {
     "name": "stdin",
     "output_type": "stream",
     "text": [
      "Guess the word: f\n"
     ]
    },
    {
     "name": "stdout",
     "output_type": "stream",
     "text": [
      "_ a_ _ _ \n",
      "You guessed wrong word f, you lost a life\n",
      "You have 5 lives left\n"
     ]
    },
    {
     "name": "stdin",
     "output_type": "stream",
     "text": [
      "Guess the word: g\n"
     ]
    },
    {
     "name": "stdout",
     "output_type": "stream",
     "text": [
      "_ a_ _ _ \n",
      "You guessed wrong word g, you lost a life\n",
      "You have 4 lives left\n"
     ]
    },
    {
     "name": "stdin",
     "output_type": "stream",
     "text": [
      "Guess the word: s\n"
     ]
    },
    {
     "name": "stdout",
     "output_type": "stream",
     "text": [
      "_ a_ _ _ \n",
      "You guessed wrong word s, you lost a life\n",
      "You have 3 lives left\n"
     ]
    },
    {
     "name": "stdin",
     "output_type": "stream",
     "text": [
      "Guess the word: e\n"
     ]
    },
    {
     "name": "stdout",
     "output_type": "stream",
     "text": [
      "_ a_ e_ \n",
      "You have 3 lives left\n"
     ]
    },
    {
     "name": "stdin",
     "output_type": "stream",
     "text": [
      "Guess the word: r\n"
     ]
    },
    {
     "name": "stdout",
     "output_type": "stream",
     "text": [
      "_ a_ e_ \n",
      "You guessed wrong word r, you lost a life\n",
      "You have 2 lives left\n"
     ]
    },
    {
     "name": "stdin",
     "output_type": "stream",
     "text": [
      "Guess the word: t\n"
     ]
    },
    {
     "name": "stdout",
     "output_type": "stream",
     "text": [
      "_ a_ e_ \n",
      "You guessed wrong word t, you lost a life\n",
      "You have 1 lives left\n"
     ]
    },
    {
     "name": "stdin",
     "output_type": "stream",
     "text": [
      "Guess the word: y\n"
     ]
    },
    {
     "name": "stdout",
     "output_type": "stream",
     "text": [
      "_ a_ e_ \n",
      "You guessed wrong word y, you lost a life\n",
      "You Loose!\n"
     ]
    }
   ],
   "source": [
    "placeholder = \"\"\n",
    "word_length = len(word)\n",
    "for posistion in range(word_length):\n",
    "    placeholder+=\"_ \"\n",
    "game_over = False\n",
    "correct_letters =[]\n",
    "life = 6\n",
    "while not game_over:\n",
    "    print(f\"You have {life} lives left\")\n",
    "    guess = input(\"Guess the word:\")\n",
    "    if guess in correct_letters:\n",
    "        print(f\"You have already guessed this letter {guess}\")\n",
    "    display  =\"\"\n",
    "    for letter in word:\n",
    "        if letter == guess :\n",
    "            display+= letter\n",
    "            correct_letters.append(letter)\n",
    "        elif letter in correct_letters:\n",
    "            display+= letter\n",
    "        else:\n",
    "            \n",
    "            display+=\"_ \"\n",
    "    print(display)\n",
    "    if guess not in correct_letters:\n",
    "        life-=1\n",
    "        print(f\"You guessed wrong word {guess}, you lost a life\")\n",
    "        if life ==0:\n",
    "            game_over=True\n",
    "            print(\"You Loose!\")\n",
    "                  \n",
    "    if \"_\" not in display:\n",
    "        game_over=True\n",
    "        print(\"You win!\")"
   ]
  },
  {
   "cell_type": "code",
   "execution_count": null,
   "id": "3a081193-4244-4a95-97ce-ea60b5453476",
   "metadata": {},
   "outputs": [],
   "source": []
  }
 ],
 "metadata": {
  "kernelspec": {
   "display_name": "Python 3 (ipykernel)",
   "language": "python",
   "name": "python3"
  },
  "language_info": {
   "codemirror_mode": {
    "name": "ipython",
    "version": 3
   },
   "file_extension": ".py",
   "mimetype": "text/x-python",
   "name": "python",
   "nbconvert_exporter": "python",
   "pygments_lexer": "ipython3",
   "version": "3.12.7"
  }
 },
 "nbformat": 4,
 "nbformat_minor": 5
}
