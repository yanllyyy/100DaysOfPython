{
 "cells": [
  {
   "cell_type": "code",
   "execution_count": 1,
   "id": "ef9e8c37-1a38-4397-8fcb-373555288469",
   "metadata": {},
   "outputs": [
    {
     "name": "stdout",
     "output_type": "stream",
     "text": [
      "Hello\n"
     ]
    },
    {
     "name": "stdin",
     "output_type": "stream",
     "text": [
      "What is your name?  Anjali\n"
     ]
    },
    {
     "name": "stdout",
     "output_type": "stream",
     "text": [
      "Hello, Anjali\n"
     ]
    }
   ],
   "source": [
    "def get_user_name():\n",
    "    name = input(\"What is your name? \")\n",
    "    print(\"Hello, \" + name)\n",
    "    # Inside the function\n",
    "\n",
    "#Outside the function\n",
    "print(\"Hello\")\n",
    "get_user_name()"
   ]
  },
  {
   "cell_type": "code",
   "execution_count": 2,
   "id": "c12e9f32-972e-479f-ac47-f547f6505aa3",
   "metadata": {},
   "outputs": [],
   "source": [
    "## https://reeborg.ca/reeborg.html?lang=en&mode=python&menu=worlds%2Fmenus%2Freeborg_intro_en.json&name=Hurdle%201&url=worlds%2Ftutorial_en%2Fhurdle1.json"
   ]
  },
  {
   "cell_type": "code",
   "execution_count": 4,
   "id": "574befd6-a9a6-4e08-a9de-153255d7bbba",
   "metadata": {},
   "outputs": [
    {
     "name": "stdout",
     "output_type": "stream",
     "text": [
      "2\n",
      "4\n",
      "6\n",
      "8\n",
      "10\n",
      "12\n",
      "14\n",
      "16\n",
      "18\n",
      "20\n"
     ]
    }
   ],
   "source": [
    "for i in range(1,11):\n",
    "    print(2*i)"
   ]
  },
  {
   "cell_type": "code",
   "execution_count": 5,
   "id": "c651d10c-702c-4f8b-8aaf-b5eeb954205f",
   "metadata": {},
   "outputs": [
    {
     "name": "stdout",
     "output_type": "stream",
     "text": [
      "10\n",
      "20\n",
      "30\n",
      "40\n",
      "50\n",
      "60\n",
      "70\n",
      "80\n",
      "90\n",
      "100\n"
     ]
    }
   ],
   "source": [
    "for i in range(1,11):\n",
    "    print(2*i*5)"
   ]
  },
  {
   "cell_type": "code",
   "execution_count": 6,
   "id": "1bff8e5c-9989-4d98-bc09-d60df74ae19f",
   "metadata": {},
   "outputs": [
    {
     "name": "stdout",
     "output_type": "stream",
     "text": [
      "apple\n",
      "cherry\n"
     ]
    }
   ],
   "source": [
    "fruits = [\"apple\", \"banana\", \"cherry\"]\n",
    "for x in fruits:\n",
    "  if x == \"banana\":\n",
    "    continue\n",
    "  print(x)"
   ]
  },
  {
   "cell_type": "code",
   "execution_count": 8,
   "id": "b053b41c-ddad-4fce-aeac-89a0afafb8e6",
   "metadata": {},
   "outputs": [
    {
     "name": "stdout",
     "output_type": "stream",
     "text": [
      "2\n",
      "12\n",
      "22\n",
      "32\n",
      "42\n",
      "52\n",
      "62\n",
      "72\n",
      "82\n",
      "92\n"
     ]
    }
   ],
   "source": [
    "for x in range(2, 100,10):\n",
    "  print(x) "
   ]
  },
  {
   "cell_type": "code",
   "execution_count": 9,
   "id": "ec2ea6f5-a6ef-4e09-84e6-844be908ed16",
   "metadata": {},
   "outputs": [
    {
     "name": "stdout",
     "output_type": "stream",
     "text": [
      "0\n",
      "1\n",
      "2\n"
     ]
    }
   ],
   "source": [
    "for x in range(6):\n",
    "  if x == 3: break\n",
    "  print(x)\n",
    "else:\n",
    "  print(\"Finally finished!\")"
   ]
  },
  {
   "cell_type": "code",
   "execution_count": 10,
   "id": "cc969163-77fe-4f4d-b56c-f1095ed66ebd",
   "metadata": {},
   "outputs": [
    {
     "name": "stdout",
     "output_type": "stream",
     "text": [
      "Count: 0\n",
      "Count: 1\n",
      "Count: 2\n",
      "Count: 3\n",
      "Count: 4\n"
     ]
    }
   ],
   "source": [
    "count = 0\n",
    "while count < 5:\n",
    "    print(\"Count:\", count)\n",
    "    count += 1"
   ]
  },
  {
   "cell_type": "code",
   "execution_count": null,
   "id": "1e89079f-1d80-42ca-9315-77dce6a6bb27",
   "metadata": {},
   "outputs": [],
   "source": []
  }
 ],
 "metadata": {
  "kernelspec": {
   "display_name": "Python 3 (ipykernel)",
   "language": "python",
   "name": "python3"
  },
  "language_info": {
   "codemirror_mode": {
    "name": "ipython",
    "version": 3
   },
   "file_extension": ".py",
   "mimetype": "text/x-python",
   "name": "python",
   "nbconvert_exporter": "python",
   "pygments_lexer": "ipython3",
   "version": "3.12.7"
  }
 },
 "nbformat": 4,
 "nbformat_minor": 5
}
