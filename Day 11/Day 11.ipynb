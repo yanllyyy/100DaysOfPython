{
 "cells": [
  {
   "cell_type": "markdown",
   "id": "bfe06e9f-2afd-494d-b203-624ce29016c8",
   "metadata": {},
   "source": [
    "## Blackjack"
   ]
  },
  {
   "cell_type": "code",
   "execution_count": 36,
   "id": "cd955cdf-3a20-4630-bfa5-d3cc2fdb3f80",
   "metadata": {},
   "outputs": [],
   "source": [
    "cards = [11,2,3,4,5,6,7,8,9,10,10,10,10]"
   ]
  },
  {
   "cell_type": "code",
   "execution_count": 37,
   "id": "bf0e3a2e-ea35-4714-b4f0-9cfae202ed92",
   "metadata": {},
   "outputs": [
    {
     "name": "stdout",
     "output_type": "stream",
     "text": [
      "[3, 6]\n",
      "Computer's first card: 3\n"
     ]
    }
   ],
   "source": [
    "import random\n",
    "computer_cards = []\n",
    "computer_cards.append(random.choice(cards))\n",
    "computer_cards.append(random.choice(cards))\n",
    "print(computer_cards)\n",
    "print(f\"Computer's first card: {computer_cards[0]}\")\n",
    "computer_score = sum(computer_cards)"
   ]
  },
  {
   "cell_type": "code",
   "execution_count": 38,
   "id": "d9305e0b-77be-4231-996a-3866fb2af5d4",
   "metadata": {},
   "outputs": [
    {
     "name": "stdout",
     "output_type": "stream",
     "text": [
      "Your cards: [5, 11], current score: 16 \n"
     ]
    }
   ],
   "source": [
    "user_cards=[]\n",
    "user_cards.append(random.choice(cards))\n",
    "user_cards.append(random.choice(cards))\n",
    "user_score = sum(user_cards)\n",
    "print(f\"Your cards: {user_cards}, current score: {user_score} \")"
   ]
  },
  {
   "cell_type": "code",
   "execution_count": 39,
   "id": "7935f5e1-60d4-4bcd-a3e0-744b5b5dc06b",
   "metadata": {},
   "outputs": [
    {
     "name": "stdin",
     "output_type": "stream",
     "text": [
      "Type 'y' to get another card, type 'n' to pass:  y\n"
     ]
    },
    {
     "name": "stdout",
     "output_type": "stream",
     "text": [
      "Your cards: [5, 11, 6], current score: 22 \n",
      "Computer's first card: 3\n"
     ]
    }
   ],
   "source": [
    "choice =input(\"Type 'y' to get another card, type 'n' to pass: \").lower()\n",
    "if choice == \"y\":\n",
    "    user_cards.append(random.choice(cards))\n",
    "    user_score = sum(user_cards)\n",
    "    print(f\"Your cards: {user_cards}, current score: {user_score} \")\n",
    "    computer_cards.append(random.choice(cards))\n",
    "    print(f\"Computer's first card: {computer_cards[0]}\")\n",
    "    computer_score = sum(computer_cards)"
   ]
  },
  {
   "cell_type": "code",
   "execution_count": 42,
   "id": "7aecd76f-2d7e-4394-a746-f3728a002a0b",
   "metadata": {},
   "outputs": [
    {
     "name": "stdout",
     "output_type": "stream",
     "text": [
      "You Lost, Your score 22 exceeded 21, and Computer Score 15\n"
     ]
    }
   ],
   "source": [
    "if user_score == 21:\n",
    "    print(f\"You won, Your score {user_score}, and Computer Score {computer_score}\")\n",
    "elif computer_score == 21:\n",
    "    print(f\"Computer won, Your score {user_score}, and Computer Score {computer_score}\")\n",
    "elif user_score>21:\n",
    "    print(f\"You Lost, Your score {user_score} exceeded 21, and Computer Score {computer_score}\")\n",
    "elif computer_score>21:\n",
    "    print(f\"Computer Lost, Your score {user_score}, and Computer Score {computer_score} exceeded 21\")\n",
    "elif user_score > computer_score:\n",
    "    print(f\"You won, Your score {user_score}, and Computer Score {computer_score}\")\n",
    "elif user_score < computer_score:\n",
    "    print(f\"Computer won, Your score {user_score}, and Computer Score {computer_score}\")\n",
    "elif user_score == computer_score:\n",
    "    print(\"Draw!!!!!\")"
   ]
  },
  {
   "cell_type": "code",
   "execution_count": 47,
   "id": "77d59949-fbb6-4817-87d3-1f35bf21c889",
   "metadata": {},
   "outputs": [
    {
     "name": "stdout",
     "output_type": "stream",
     "text": [
      "[10, 10]\n",
      "Computer's first card: 10\n",
      "Your cards: [8, 9], current score: 17 \n"
     ]
    },
    {
     "name": "stdin",
     "output_type": "stream",
     "text": [
      "Type 'y' to get another card, type 'n' to pass:  n\n"
     ]
    },
    {
     "name": "stdout",
     "output_type": "stream",
     "text": [
      "Computer won, Your score 17, and Computer Score 20\n"
     ]
    },
    {
     "name": "stdin",
     "output_type": "stream",
     "text": [
      "Do you want to continue to play? Type 'Y' for Yes and 'N' for No y\n"
     ]
    },
    {
     "name": "stdout",
     "output_type": "stream",
     "text": [
      "[8, 10]\n",
      "Computer's first card: 8\n",
      "Your cards: [9, 8], current score: 17 \n"
     ]
    },
    {
     "name": "stdin",
     "output_type": "stream",
     "text": [
      "Type 'y' to get another card, type 'n' to pass:  y\n"
     ]
    },
    {
     "name": "stdout",
     "output_type": "stream",
     "text": [
      "Your cards: [9, 8, 10], current score: 27 \n",
      "Computer's first card: 8\n"
     ]
    },
    {
     "name": "stdin",
     "output_type": "stream",
     "text": [
      "Type 'y' to get another card, type 'n' to pass:  n\n"
     ]
    },
    {
     "name": "stdout",
     "output_type": "stream",
     "text": [
      "You Lost, Your score 27 exceeded 21, and Computer Score 23\n"
     ]
    },
    {
     "name": "stdin",
     "output_type": "stream",
     "text": [
      "Do you want to continue to play? Type 'Y' for Yes and 'N' for No n\n"
     ]
    },
    {
     "name": "stdout",
     "output_type": "stream",
     "text": [
      "Thanks for playing!\n"
     ]
    }
   ],
   "source": [
    "while True:\n",
    "    computer_cards = []\n",
    "    computer_cards.append(random.choice(cards))\n",
    "    computer_cards.append(random.choice(cards))\n",
    "    print(computer_cards)\n",
    "    print(f\"Computer's first card: {computer_cards[0]}\")\n",
    "    computer_score = sum(computer_cards)\n",
    "    user_cards=[]\n",
    "    user_cards.append(random.choice(cards))\n",
    "    user_cards.append(random.choice(cards))\n",
    "    user_score = sum(user_cards)\n",
    "    print(f\"Your cards: {user_cards}, current score: {user_score} \")\n",
    "    while True:\n",
    "        choice =input(\"Type 'y' to get another card, type 'n' to pass: \").lower()\n",
    "        if choice == \"y\":\n",
    "            user_cards.append(random.choice(cards))\n",
    "            user_score = sum(user_cards)\n",
    "            print(f\"Your cards: {user_cards}, current score: {user_score} \")\n",
    "            computer_cards.append(random.choice(cards))\n",
    "            print(f\"Computer's first card: {computer_cards[0]}\")\n",
    "            computer_score = sum(computer_cards)\n",
    "        else:\n",
    "            break\n",
    "    if user_score == 21:\n",
    "        print(f\"You won, Your score {user_score}, and Computer Score {computer_score}\")\n",
    "    elif computer_score == 21:\n",
    "        print(f\"Computer won, Your score {user_score}, and Computer Score {computer_score}\")\n",
    "    elif user_score>21:\n",
    "        print(f\"You Lost, Your score {user_score} exceeded 21, and Computer Score {computer_score}\")\n",
    "    elif computer_score>21:\n",
    "        print(f\"Computer Lost, Your score {user_score}, and Computer Score {computer_score} exceeded 21\")\n",
    "    elif user_score > computer_score:\n",
    "        print(f\"You won, Your score {user_score}, and Computer Score {computer_score}\")\n",
    "    elif user_score < computer_score:\n",
    "        print(f\"Computer won, Your score {user_score}, and Computer Score {computer_score}\")\n",
    "    elif user_score == computer_score:\n",
    "        print(\"Draw!!!!!\")\n",
    "    cont = input(\"Do you want to continue to play? Type 'Y' for Yes and 'N' for No\").lower()\n",
    "    if cont != 'y':\n",
    "        print(\"Thanks for playing!\")\n",
    "        break"
   ]
  },
  {
   "cell_type": "code",
   "execution_count": 48,
   "id": "b72e6c63-d017-414b-8eb5-6e46446a1cee",
   "metadata": {},
   "outputs": [],
   "source": [
    "import random\n",
    "def deal_card():\n",
    "    \"\"\"Returns a random card from the deck\"\"\"\n",
    "    cards = [11, 2, 3, 4, 5, 6, 7, 8, 9, 10, 10, 10, 10]\n",
    "    card = random.choice(cards)\n",
    "    return card\n",
    "\n",
    "\n",
    "def calculate_score(cards):\n",
    "    \"\"\"Take a list of cards and return the score calculated from the cards\"\"\"\n",
    "    if sum(cards) == 21 and len(cards) == 2:\n",
    "        return 0\n",
    "\n",
    "    if 11 in cards and sum(cards) > 21:\n",
    "        cards.remove(11)\n",
    "        cards.append(1)\n",
    "\n",
    "    return sum(cards)\n",
    "\n",
    "\n"
   ]
  },
  {
   "cell_type": "code",
   "execution_count": 49,
   "id": "70b447b7-d039-47ca-a017-a2d45facbf94",
   "metadata": {},
   "outputs": [],
   "source": [
    "def compare(u_score, c_score):\n",
    "    \"\"\"Compares the user score u_score against the computer score c_score.\"\"\"\n",
    "    if u_score == c_score:\n",
    "        return \"Draw 🙃\"\n",
    "    elif c_score == 0:\n",
    "        return \"Lose, opponent has Blackjack 😱\"\n",
    "    elif u_score == 0:\n",
    "        return \"Win with a Blackjack 😎\"\n",
    "    elif u_score > 21:\n",
    "        return \"You went over. You lose 😭\"\n",
    "    elif c_score > 21:\n",
    "        return \"Opponent went over. You win 😁\"\n",
    "    elif u_score > c_score:\n",
    "        return \"You win 😃\"\n",
    "    else:\n",
    "        return \"You lose 😤\"\n"
   ]
  },
  {
   "cell_type": "code",
   "execution_count": 50,
   "id": "b30d4e07-9969-4b3f-8339-4a67512d733a",
   "metadata": {},
   "outputs": [],
   "source": [
    "\n",
    "def play_game():\n",
    "    user_cards = []\n",
    "    computer_cards = []\n",
    "    computer_score = -1\n",
    "    user_score = -1\n",
    "    is_game_over = False\n",
    "\n",
    "    for _ in range(2):\n",
    "        user_cards.append(deal_card())\n",
    "        computer_cards.append(deal_card())\n",
    "\n",
    "    while not is_game_over:\n",
    "        user_score = calculate_score(user_cards)\n",
    "        computer_score = calculate_score(computer_cards)\n",
    "        print(f\"Your cards: {user_cards}, current score: {user_score}\")\n",
    "        print(f\"Computer's first card: {computer_cards[0]}\")\n",
    "\n",
    "        if user_score == 0 or computer_score == 0 or user_score > 21:\n",
    "            is_game_over = True\n",
    "        else:\n",
    "            user_should_deal = input(\"Type 'y' to get another card, type 'n' to pass: \")\n",
    "            if user_should_deal == \"y\":\n",
    "                user_cards.append(deal_card())\n",
    "            else:\n",
    "                is_game_over = True\n",
    "\n",
    "    while computer_score != 0 and computer_score < 17:\n",
    "        computer_cards.append(deal_card())\n",
    "        computer_score = calculate_score(computer_cards)\n",
    "\n",
    "    print(f\"Your final hand: {user_cards}, final score: {user_score}\")\n",
    "    print(f\"Computer's final hand: {computer_cards}, final score: {computer_score}\")\n",
    "    print(compare(user_score, computer_score))\n"
   ]
  },
  {
   "cell_type": "code",
   "execution_count": 51,
   "id": "10d3848e-cb63-4511-9438-bf5d59a8b2ea",
   "metadata": {},
   "outputs": [
    {
     "name": "stdin",
     "output_type": "stream",
     "text": [
      "Do you want to play a game of Blackjack? Type 'y' or 'n':  y\n"
     ]
    },
    {
     "name": "stdout",
     "output_type": "stream",
     "text": [
      "\n",
      "\n",
      "Your cards: [10, 10], current score: 20\n",
      "Computer's first card: 9\n"
     ]
    },
    {
     "name": "stdin",
     "output_type": "stream",
     "text": [
      "Type 'y' to get another card, type 'n' to pass:  n\n"
     ]
    },
    {
     "name": "stdout",
     "output_type": "stream",
     "text": [
      "Your final hand: [10, 10], final score: 20\n",
      "Computer's final hand: [9, 10], final score: 19\n",
      "You win 😃\n"
     ]
    },
    {
     "name": "stdin",
     "output_type": "stream",
     "text": [
      "Do you want to play a game of Blackjack? Type 'y' or 'n':  y\n"
     ]
    },
    {
     "name": "stdout",
     "output_type": "stream",
     "text": [
      "\n",
      "\n",
      "Your cards: [4, 9], current score: 13\n",
      "Computer's first card: 3\n"
     ]
    },
    {
     "name": "stdin",
     "output_type": "stream",
     "text": [
      "Type 'y' to get another card, type 'n' to pass:  y\n"
     ]
    },
    {
     "name": "stdout",
     "output_type": "stream",
     "text": [
      "Your cards: [4, 9, 2], current score: 15\n",
      "Computer's first card: 3\n"
     ]
    },
    {
     "name": "stdin",
     "output_type": "stream",
     "text": [
      "Type 'y' to get another card, type 'n' to pass:  n\n"
     ]
    },
    {
     "name": "stdout",
     "output_type": "stream",
     "text": [
      "Your final hand: [4, 9, 2], final score: 15\n",
      "Computer's final hand: [3, 7, 10], final score: 20\n",
      "You lose 😤\n"
     ]
    },
    {
     "name": "stdin",
     "output_type": "stream",
     "text": [
      "Do you want to play a game of Blackjack? Type 'y' or 'n':  n\n"
     ]
    }
   ],
   "source": [
    "while input(\"Do you want to play a game of Blackjack? Type 'y' or 'n': \") == \"y\":\n",
    "    print(\"\\n\" )\n",
    "    play_game()\n"
   ]
  },
  {
   "cell_type": "code",
   "execution_count": null,
   "id": "d5e00dbc-2034-4e0b-8507-6986a3131dee",
   "metadata": {},
   "outputs": [],
   "source": []
  }
 ],
 "metadata": {
  "kernelspec": {
   "display_name": "Python 3 (ipykernel)",
   "language": "python",
   "name": "python3"
  },
  "language_info": {
   "codemirror_mode": {
    "name": "ipython",
    "version": 3
   },
   "file_extension": ".py",
   "mimetype": "text/x-python",
   "name": "python",
   "nbconvert_exporter": "python",
   "pygments_lexer": "ipython3",
   "version": "3.12.7"
  }
 },
 "nbformat": 4,
 "nbformat_minor": 5
}
