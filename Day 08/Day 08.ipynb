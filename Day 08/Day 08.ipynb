{
 "cells": [
  {
   "cell_type": "code",
   "execution_count": 11,
   "id": "da0c6d82-4cf2-425b-a692-58669b7983b4",
   "metadata": {},
   "outputs": [],
   "source": [
    "def encoder(text, s):\n",
    "    result = \"\"\n",
    "    # traverse text\n",
    "    for i in range(len(text)):\n",
    "        char = text[i]\n",
    "        # Encrypt uppercase characters\n",
    "        if (char.isupper()):\n",
    "            result += chr((ord(char) + s - 65) % 26 + 65)\n",
    "        # Encrypt lowercase characters\n",
    "        else:\n",
    "            result += chr((ord(char) + s - 97) % 26 + 97)\n",
    "    return result\n"
   ]
  },
  {
   "cell_type": "code",
   "execution_count": 12,
   "id": "1048c98b-98d7-4a49-8898-ad3cb994e01c",
   "metadata": {},
   "outputs": [],
   "source": [
    "def decoder(cipher, s):\n",
    "    result = \"\"\n",
    "    # traverse the cipher text\n",
    "    for i in range(len(cipher)):\n",
    "        char = cipher[i]\n",
    "        # Decrypt uppercase characters\n",
    "        if (char.isupper()):\n",
    "            result += chr((ord(char) - s - 65) % 26 + 65)\n",
    "        # Decrypt lowercase characters\n",
    "        else:\n",
    "            result += chr((ord(char) - s - 97) % 26 + 97)\n",
    "    return result\n"
   ]
  },
  {
   "cell_type": "code",
   "execution_count": 13,
   "id": "ee04ca22-c68b-4e86-a4ea-b9378bb73c43",
   "metadata": {},
   "outputs": [
    {
     "data": {
      "text/plain": [
       "'Ylhyjg'"
      ]
     },
     "execution_count": 13,
     "metadata": {},
     "output_type": "execute_result"
    }
   ],
   "source": [
    "decoder(\"Anjali\",2)"
   ]
  },
  {
   "cell_type": "code",
   "execution_count": 14,
   "id": "61db3294-905f-4558-a280-f9814acc7f3a",
   "metadata": {},
   "outputs": [
    {
     "data": {
      "text/plain": [
       "'Anjali'"
      ]
     },
     "execution_count": 14,
     "metadata": {},
     "output_type": "execute_result"
    }
   ],
   "source": [
    "encoder(\"Ylhyjg\",2)"
   ]
  },
  {
   "cell_type": "code",
   "execution_count": 21,
   "id": "4e035104-5fd1-4995-a7d3-21ed5c366126",
   "metadata": {},
   "outputs": [
    {
     "name": "stdin",
     "output_type": "stream",
     "text": [
      "Type 'encode' to encrypt and 'decode' to decrypt encoder\n"
     ]
    }
   ],
   "source": [
    "direction = input(\"Type 'encode' to encrypt and 'decode' to decrypt\").lower()"
   ]
  },
  {
   "cell_type": "code",
   "execution_count": 22,
   "id": "95035d2b-a61a-4c84-99bb-a55025f2fd37",
   "metadata": {},
   "outputs": [
    {
     "name": "stdin",
     "output_type": "stream",
     "text": [
      "Write message you want to {direction}. ajykza\n",
      "By what number you want to cipher the message? 3\n"
     ]
    }
   ],
   "source": [
    "text = input(\"Write message you want to {direction}.\")\n",
    "shift = int(input(\"By what number you want to cipher the message?\"))"
   ]
  },
  {
   "cell_type": "code",
   "execution_count": 23,
   "id": "2254de46-b6d0-429d-ac97-2b1b4e9ec5ae",
   "metadata": {},
   "outputs": [
    {
     "name": "stdout",
     "output_type": "stream",
     "text": [
      "You entered encoder. Incoorect choice.\n"
     ]
    }
   ],
   "source": [
    "if direction == \"encode\":\n",
    "    print(f\"Your {direction}ed message is {encoder(text, shift)}\")\n",
    "elif direction == \"decode\":\n",
    "    print(f\"Your {direction}ed message is {decoder(text, shift)}\")\n",
    "else:\n",
    "    print(f\"You entered {direction}. Incoorect choice.\")"
   ]
  },
  {
   "cell_type": "code",
   "execution_count": null,
   "id": "d5482c14-defe-41d8-a651-219dc0ff3bdf",
   "metadata": {},
   "outputs": [],
   "source": []
  }
 ],
 "metadata": {
  "kernelspec": {
   "display_name": "Python 3 (ipykernel)",
   "language": "python",
   "name": "python3"
  },
  "language_info": {
   "codemirror_mode": {
    "name": "ipython",
    "version": 3
   },
   "file_extension": ".py",
   "mimetype": "text/x-python",
   "name": "python",
   "nbconvert_exporter": "python",
   "pygments_lexer": "ipython3",
   "version": "3.12.7"
  }
 },
 "nbformat": 4,
 "nbformat_minor": 5
}
