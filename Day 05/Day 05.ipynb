{
 "cells": [
  {
   "cell_type": "code",
   "execution_count": 1,
   "id": "472e2e95-9fbb-4a2e-bc11-a0b14b4f4517",
   "metadata": {},
   "outputs": [
    {
     "name": "stdout",
     "output_type": "stream",
     "text": [
      "Apple\n",
      "Apple pie\n",
      "Peach\n",
      "Peach pie\n",
      "Pear\n",
      "Pear pie\n"
     ]
    }
   ],
   "source": [
    "## Task 01\n",
    "fruits = [\"Apple\", \"Peach\", \"Pear\"]\n",
    "for fruit in fruits:\n",
    "    print(fruit)\n",
    "    print(fruit + \" pie\")"
   ]
  },
  {
   "cell_type": "code",
   "execution_count": 2,
   "id": "24b7d78a-1019-4a87-aee8-d58539d38b41",
   "metadata": {},
   "outputs": [
    {
     "name": "stdout",
     "output_type": "stream",
     "text": [
      "Apple\n",
      "Hello\n",
      "Peach\n",
      "Hello\n",
      "Pear\n",
      "Hello\n"
     ]
    }
   ],
   "source": [
    "fruits = [\"Apple\", \"Peach\", \"Pear\"]\n",
    "for fruit in fruits:\n",
    "    print(fruit)\n",
    "    print(\"Hello\")\n",
    "\n"
   ]
  },
  {
   "cell_type": "code",
   "execution_count": 3,
   "id": "78708f9b-6897-43ad-b6d9-4f6918a874a1",
   "metadata": {},
   "outputs": [
    {
     "name": "stdout",
     "output_type": "stream",
     "text": [
      "Apple\n",
      "Peach\n",
      "Pear\n",
      "Hello\n"
     ]
    }
   ],
   "source": [
    "fruits = [\"Apple\", \"Peach\", \"Pear\"]\n",
    "for fruit in fruits:\n",
    "    print(fruit)\n",
    "print(\"Hello\")"
   ]
  },
  {
   "cell_type": "code",
   "execution_count": 4,
   "id": "049e29c8-2848-4b27-8aea-4560beaab561",
   "metadata": {},
   "outputs": [
    {
     "name": "stdout",
     "output_type": "stream",
     "text": [
      "range(1, 10)\n"
     ]
    }
   ],
   "source": [
    "## Task 02\n",
    "student_scores = [150, 142, 185, 120, 171, 184, 149, 24, 59, 68, 199, 78, 65, 89, 86, 55, 91, 64, 89]\n",
    "print(range(1, 10))"
   ]
  },
  {
   "cell_type": "code",
   "execution_count": 6,
   "id": "080f4099-a830-4bba-84e4-c80c32977cb1",
   "metadata": {},
   "outputs": [
    {
     "name": "stdout",
     "output_type": "stream",
     "text": [
      "1146\n"
     ]
    }
   ],
   "source": [
    "student_scores = [180, 124, 165, 173, 189, 169, 146]\n",
    "total_score = sum(student_scores) \n",
    "print(total_score)"
   ]
  },
  {
   "cell_type": "code",
   "execution_count": 9,
   "id": "54126ecc-5c12-42fa-843a-d9971072811a",
   "metadata": {},
   "outputs": [],
   "source": [
    "student_scores = [180, 124, 165,187,1973,2000]\n",
    "\n",
    "sum = 0\n",
    "for score in student_scores:\n",
    "    sum += score"
   ]
  },
  {
   "cell_type": "code",
   "execution_count": 10,
   "id": "76a068ce-e431-47cf-9f0a-d0f0c2bd7d82",
   "metadata": {},
   "outputs": [
    {
     "name": "stdout",
     "output_type": "stream",
     "text": [
      "Max number is 2000\n"
     ]
    }
   ],
   "source": [
    "maxnum = 0\n",
    "for num in student_scores:\n",
    "    if maxnum < num:\n",
    "        maxnum=num\n",
    "print(f\"Max number is {maxnum}\")"
   ]
  },
  {
   "cell_type": "code",
   "execution_count": 11,
   "id": "930b92b0-8f3f-4208-a4d0-15087e629562",
   "metadata": {},
   "outputs": [
    {
     "name": "stdout",
     "output_type": "stream",
     "text": [
      "1\n",
      "2\n",
      "3\n",
      "4\n",
      "5\n",
      "6\n",
      "7\n",
      "8\n",
      "9\n"
     ]
    }
   ],
   "source": [
    "## Task 03\n",
    "for number in range(1, 10):\n",
    "    print(number)"
   ]
  },
  {
   "cell_type": "code",
   "execution_count": 12,
   "id": "1489cc39-cea1-4df8-9009-b7772acdb65a",
   "metadata": {},
   "outputs": [
    {
     "name": "stdout",
     "output_type": "stream",
     "text": [
      "5050\n"
     ]
    }
   ],
   "source": [
    "sum = 0\n",
    "for number in range(1, 101):\n",
    "    sum += number\n",
    "print(sum)"
   ]
  },
  {
   "cell_type": "code",
   "execution_count": 13,
   "id": "82af3b31-cbcf-4886-aee6-e9dc5d8cfe42",
   "metadata": {},
   "outputs": [
    {
     "name": "stdout",
     "output_type": "stream",
     "text": [
      "Welcome to the PyPassword Generator!\n"
     ]
    },
    {
     "name": "stdin",
     "output_type": "stream",
     "text": [
      "How many letters would you like in your password?\n",
      " 7\n",
      "How many symbols would you like?\n",
      " 2\n",
      "How many numbers would you like?\n",
      " 5\n"
     ]
    }
   ],
   "source": [
    "## Task 04\n",
    "letters = ['a', 'b', 'c', 'd', 'e', 'f', 'g', 'h', 'i', 'j', 'k', 'l', 'm', 'n', 'o', 'p', 'q', 'r', 's', 't', 'u', 'v', 'w', 'x', 'y', 'z', 'A', 'B', 'C', 'D', 'E', 'F', 'G', 'H', 'I', 'J', 'K', 'L', 'M', 'N', 'O', 'P', 'Q', 'R', 'S', 'T', 'U', 'V', 'W', 'X', 'Y', 'Z']\n",
    "numbers = ['0', '1', '2', '3', '4', '5', '6', '7', '8', '9']\n",
    "symbols = ['!', '#', '$', '%', '&', '(', ')', '*', '+']\n",
    "\n",
    "print(\"Welcome to the PyPassword Generator!\")\n",
    "nr_letters = int(input(\"How many letters would you like in your password?\\n\"))\n",
    "nr_symbols = int(input(f\"How many symbols would you like?\\n\"))\n",
    "nr_numbers = int(input(f\"How many numbers would you like?\\n\"))"
   ]
  },
  {
   "cell_type": "code",
   "execution_count": 17,
   "id": "7596bbc8-e5b1-4ba7-ba60-37e95cf44d55",
   "metadata": {},
   "outputs": [
    {
     "name": "stdout",
     "output_type": "stream",
     "text": [
      "LiuYJgw)+90829\n"
     ]
    }
   ],
   "source": [
    "import random\n",
    "password = \"\"\n",
    "for char in range(0, nr_letters):\n",
    "    password += random.choice(letters)\n",
    "\n",
    "for char in range(0, nr_symbols):\n",
    "    password += random.choice(symbols)\n",
    "\n",
    "for char in range(0, nr_numbers):\n",
    "    password += random.choice(numbers)\n",
    "\n",
    "print(password)"
   ]
  },
  {
   "cell_type": "code",
   "execution_count": 18,
   "id": "be9778f5-0283-4a20-9837-f84af6f22ae7",
   "metadata": {},
   "outputs": [
    {
     "name": "stdout",
     "output_type": "stream",
     "text": [
      "['p', 'M', 'V', 'G', 'w', 'j', 'n', ')', '(', '4', '7', '5', '6', '5']\n",
      "['4', '7', 'G', 'M', '5', '(', ')', 'j', '5', 'V', '6', 'p', 'n', 'w']\n",
      "Your password is: 47GM5()j5V6pnw\n"
     ]
    }
   ],
   "source": [
    "password_list = []\n",
    "for char in range(0, nr_letters):\n",
    "    password_list.append(random.choice(letters))\n",
    "\n",
    "for char in range(0, nr_symbols):\n",
    "    password_list.append(random.choice(symbols))\n",
    "\n",
    "for char in range(0, nr_numbers):\n",
    "    password_list.append(random.choice(numbers))\n",
    "\n",
    "print(password_list)\n",
    "random.shuffle(password_list)\n",
    "print(password_list)\n",
    "\n",
    "password = \"\"\n",
    "for char in password_list:\n",
    "    password += char\n",
    "\n",
    "print(f\"Your password is: {password}\")"
   ]
  },
  {
   "cell_type": "code",
   "execution_count": null,
   "id": "0ee2b3e2-2653-4542-84eb-b040685fba2a",
   "metadata": {},
   "outputs": [],
   "source": []
  }
 ],
 "metadata": {
  "kernelspec": {
   "display_name": "Python 3 (ipykernel)",
   "language": "python",
   "name": "python3"
  },
  "language_info": {
   "codemirror_mode": {
    "name": "ipython",
    "version": 3
   },
   "file_extension": ".py",
   "mimetype": "text/x-python",
   "name": "python",
   "nbconvert_exporter": "python",
   "pygments_lexer": "ipython3",
   "version": "3.12.7"
  }
 },
 "nbformat": 4,
 "nbformat_minor": 5
}
