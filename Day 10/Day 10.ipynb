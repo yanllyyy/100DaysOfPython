{
 "cells": [
  {
   "cell_type": "code",
   "execution_count": 4,
   "id": "b7abcc6b-7f1b-440c-b75e-5483de39b7f2",
   "metadata": {},
   "outputs": [],
   "source": [
    "def formated_name(f_name, l_name):\n",
    "    fname = f_name.title()\n",
    "    lname = l_name.title()\n",
    "    return fname,lname"
   ]
  },
  {
   "cell_type": "code",
   "execution_count": 5,
   "id": "a1d5d1bb-4168-45c4-b526-08768bbddf0d",
   "metadata": {},
   "outputs": [
    {
     "name": "stdout",
     "output_type": "stream",
     "text": [
      "('Anjali', 'Yadav')\n"
     ]
    }
   ],
   "source": [
    "print(formated_name(f_name=\"AnJaLI\", l_name=\"yadaV\"))"
   ]
  },
  {
   "cell_type": "code",
   "execution_count": 7,
   "id": "f1ad8cb4-0ef1-4524-9ba5-59fa4d36498f",
   "metadata": {},
   "outputs": [],
   "source": [
    "def formated_name1(f_name, l_name):\n",
    "    fname = f_name.title()\n",
    "    lname = l_name.title()\n",
    "    return f\"{fname} {lname}\""
   ]
  },
  {
   "cell_type": "code",
   "execution_count": 8,
   "id": "da696cc9-b48d-4efc-8e9e-0c067548411f",
   "metadata": {},
   "outputs": [
    {
     "data": {
      "text/plain": [
       "'Anjali Yadav'"
      ]
     },
     "execution_count": 8,
     "metadata": {},
     "output_type": "execute_result"
    }
   ],
   "source": [
    "formated_name1(f_name=\"AnJaLI\", l_name=\"yadaV\")"
   ]
  },
  {
   "cell_type": "code",
   "execution_count": 13,
   "id": "48189ca6-f5ad-4fc0-8bae-09b12a4924b7",
   "metadata": {},
   "outputs": [],
   "source": [
    "def is_leap_year(year):\n",
    "    # Write your code here. \n",
    "    # Don't change the function name.\n",
    "    if year%4 == 0:\n",
    "        if year%100 ==0:\n",
    "            if year%400==0:\n",
    "                return True\n",
    "            else:\n",
    "                return False\n",
    "        else:\n",
    "            return True\n",
    "                \n",
    "    else:\n",
    "        return False"
   ]
  },
  {
   "cell_type": "code",
   "execution_count": 14,
   "id": "e206776b-fe00-475d-9298-b9a198fded7c",
   "metadata": {},
   "outputs": [
    {
     "data": {
      "text/plain": [
       "True"
      ]
     },
     "execution_count": 14,
     "metadata": {},
     "output_type": "execute_result"
    }
   ],
   "source": [
    "is_leap_year(2020)"
   ]
  },
  {
   "cell_type": "code",
   "execution_count": 15,
   "id": "fa78a004-99b8-4952-af9d-acc7a905b8cf",
   "metadata": {},
   "outputs": [
    {
     "data": {
      "text/plain": [
       "False"
      ]
     },
     "execution_count": 15,
     "metadata": {},
     "output_type": "execute_result"
    }
   ],
   "source": [
    "is_leap_year(2010)"
   ]
  },
  {
   "cell_type": "code",
   "execution_count": 12,
   "id": "555b31b5-615d-4de2-b687-1ede1d65d8da",
   "metadata": {},
   "outputs": [
    {
     "name": "stdin",
     "output_type": "stream",
     "text": [
      "Enter Number 1 :  56\n",
      "Please enter the operator: \n",
      " + \n",
      " - \n",
      " * \n",
      " / \n",
      " /\n",
      "Enter Number 2 :  0\n"
     ]
    },
    {
     "name": "stdout",
     "output_type": "stream",
     "text": [
      "Divisor cant be 0\n"
     ]
    },
    {
     "name": "stdin",
     "output_type": "stream",
     "text": [
      "Do you want to continue? y or n y\n",
      "Enter Number 1 :  52\n",
      "Please enter the operator: \n",
      " + \n",
      " - \n",
      " * \n",
      " / \n",
      " 89\n",
      "Enter Number 2 :  89\n"
     ]
    },
    {
     "name": "stdout",
     "output_type": "stream",
     "text": [
      "Invalid Operator\n"
     ]
    },
    {
     "name": "stdin",
     "output_type": "stream",
     "text": [
      "Do you want to continue? y or n y\n",
      "Enter Number 1 :  89\n",
      "Please enter the operator: \n",
      " + \n",
      " - \n",
      " * \n",
      " / \n",
      " +\n",
      "Enter Number 2 :  45\n"
     ]
    },
    {
     "name": "stdout",
     "output_type": "stream",
     "text": [
      "89.0 + 45.0 = 134.0\n"
     ]
    },
    {
     "name": "stdin",
     "output_type": "stream",
     "text": [
      "Do you want to continue? y or n n\n"
     ]
    }
   ],
   "source": [
    "while True:\n",
    "    num1 = float(input(\"Enter Number 1 : \"))\n",
    "    opeartor = input(\"Please enter the operator: \\n + \\n - \\n * \\n / \\n\")\n",
    "    num2 = float(input(\"Enter Number 2 : \"))\n",
    "    if opeartor == \"+\":\n",
    "        result = num1+num2\n",
    "        print(f\"{num1} {opeartor} {num2} = {result}\")\n",
    "    elif opeartor == \"-\":\n",
    "        result = num1-num2\n",
    "        print(f\"{num1} {opeartor} {num2} = {result}\")\n",
    "    elif opeartor == \"*\":\n",
    "        result = num1*num2\n",
    "        print(f\"{num1} {opeartor} {num2} = {result}\")\n",
    "    elif opeartor == \"/\":\n",
    "        if num2 !=0:\n",
    "            result = num1/num2\n",
    "            print(f\"{num1} {opeartor} {num2} = {result}\")\n",
    "        else:\n",
    "            print(f\"Divisor cant be 0\")\n",
    "    else:\n",
    "        print(f\"Invalid Operator\")\n",
    "    choice = input(\"Do you want to continue? y or n\").lower()\n",
    "    if choice == \"n\":\n",
    "        break"
   ]
  },
  {
   "cell_type": "code",
   "execution_count": 17,
   "id": "bf5b5d8e-cea0-43f6-bd41-3625acef631d",
   "metadata": {},
   "outputs": [],
   "source": [
    "def add(n1, n2):\n",
    "    return n1 + n2\n",
    "\n",
    "\n",
    "def subtract(n1, n2):\n",
    "    return n1 - n2\n",
    "\n",
    "\n",
    "def multiply(n1, n2):\n",
    "    return n1 * n2\n",
    "\n",
    "\n",
    "def divide(n1, n2):\n",
    "    return n1 / n2\n"
   ]
  },
  {
   "cell_type": "code",
   "execution_count": 18,
   "id": "68ce79dd-2c50-4f1b-984a-d53726b7ee2a",
   "metadata": {},
   "outputs": [],
   "source": [
    "operations = {\n",
    "    \"+\": add,\n",
    "    \"-\": subtract,\n",
    "    \"*\": multiply,\n",
    "    \"/\": divide,\n",
    "}\n",
    "\n"
   ]
  },
  {
   "cell_type": "code",
   "execution_count": 19,
   "id": "865a6228-5791-486b-850d-d99ed077c6de",
   "metadata": {},
   "outputs": [],
   "source": [
    "def calculator():\n",
    "    \n",
    "    should_accumulate = True\n",
    "    num1 = float(input(\"What is the first number?: \"))\n",
    "\n",
    "    while should_accumulate:\n",
    "        for symbol in operations:\n",
    "            print(symbol)\n",
    "        operation_symbol = input(\"Pick an operation: \")\n",
    "        num2 = float(input(\"What is the next number?: \"))\n",
    "        answer = operations[operation_symbol](num1, num2)\n",
    "        print(f\"{num1} {operation_symbol} {num2} = {answer}\")\n",
    "\n",
    "        choice = input(f\"Type 'y' to continue calculating with {answer}, or type 'n' to start a new calculation: \")\n",
    "\n",
    "        if choice == \"y\":\n",
    "            num1 = answer\n",
    "        else:\n",
    "            should_accumulate = False\n",
    "            print(\"\\n\" * 20)\n",
    "            calculator()\n",
    "\n",
    "\n"
   ]
  },
  {
   "cell_type": "code",
   "execution_count": 20,
   "id": "e02d37d4-999d-46e0-8c32-9f5c72cd36af",
   "metadata": {},
   "outputs": [
    {
     "name": "stdin",
     "output_type": "stream",
     "text": [
      "What is the first number?:  89\n"
     ]
    },
    {
     "name": "stdout",
     "output_type": "stream",
     "text": [
      "+\n",
      "-\n",
      "*\n",
      "/\n"
     ]
    },
    {
     "name": "stdin",
     "output_type": "stream",
     "text": [
      "Pick an operation:  -\n",
      "What is the next number?:  56\n"
     ]
    },
    {
     "name": "stdout",
     "output_type": "stream",
     "text": [
      "89.0 - 56.0 = 33.0\n"
     ]
    },
    {
     "name": "stdin",
     "output_type": "stream",
     "text": [
      "Type 'y' to continue calculating with 33.0, or type 'n' to start a new calculation:  y\n"
     ]
    },
    {
     "name": "stdout",
     "output_type": "stream",
     "text": [
      "+\n",
      "-\n",
      "*\n",
      "/\n"
     ]
    },
    {
     "name": "stdin",
     "output_type": "stream",
     "text": [
      "Pick an operation:  -\n",
      "What is the next number?:  100\n"
     ]
    },
    {
     "name": "stdout",
     "output_type": "stream",
     "text": [
      "33.0 - 100.0 = -67.0\n"
     ]
    },
    {
     "name": "stdin",
     "output_type": "stream",
     "text": [
      "Type 'y' to continue calculating with -67.0, or type 'n' to start a new calculation:  n\n"
     ]
    },
    {
     "name": "stdout",
     "output_type": "stream",
     "text": [
      "\n",
      "\n",
      "\n",
      "\n",
      "\n",
      "\n",
      "\n",
      "\n",
      "\n",
      "\n",
      "\n",
      "\n",
      "\n",
      "\n",
      "\n",
      "\n",
      "\n",
      "\n",
      "\n",
      "\n",
      "\n"
     ]
    },
    {
     "name": "stdin",
     "output_type": "stream",
     "text": [
      "What is the first number?:  52\n"
     ]
    },
    {
     "name": "stdout",
     "output_type": "stream",
     "text": [
      "+\n",
      "-\n",
      "*\n",
      "/\n"
     ]
    },
    {
     "name": "stdin",
     "output_type": "stream",
     "text": [
      "Pick an operation:  33\n",
      "What is the next number?:  2\n"
     ]
    },
    {
     "ename": "KeyError",
     "evalue": "'33'",
     "output_type": "error",
     "traceback": [
      "\u001b[1;31m---------------------------------------------------------------------------\u001b[0m",
      "\u001b[1;31mKeyError\u001b[0m                                  Traceback (most recent call last)",
      "Cell \u001b[1;32mIn[20], line 1\u001b[0m\n\u001b[1;32m----> 1\u001b[0m calculator()\n",
      "Cell \u001b[1;32mIn[19], line 21\u001b[0m, in \u001b[0;36mcalculator\u001b[1;34m()\u001b[0m\n\u001b[0;32m     19\u001b[0m should_accumulate \u001b[38;5;241m=\u001b[39m \u001b[38;5;28;01mFalse\u001b[39;00m\n\u001b[0;32m     20\u001b[0m \u001b[38;5;28mprint\u001b[39m(\u001b[38;5;124m\"\u001b[39m\u001b[38;5;130;01m\\n\u001b[39;00m\u001b[38;5;124m\"\u001b[39m \u001b[38;5;241m*\u001b[39m \u001b[38;5;241m20\u001b[39m)\n\u001b[1;32m---> 21\u001b[0m calculator()\n",
      "Cell \u001b[1;32mIn[19], line 11\u001b[0m, in \u001b[0;36mcalculator\u001b[1;34m()\u001b[0m\n\u001b[0;32m      9\u001b[0m operation_symbol \u001b[38;5;241m=\u001b[39m \u001b[38;5;28minput\u001b[39m(\u001b[38;5;124m\"\u001b[39m\u001b[38;5;124mPick an operation: \u001b[39m\u001b[38;5;124m\"\u001b[39m)\n\u001b[0;32m     10\u001b[0m num2 \u001b[38;5;241m=\u001b[39m \u001b[38;5;28mfloat\u001b[39m(\u001b[38;5;28minput\u001b[39m(\u001b[38;5;124m\"\u001b[39m\u001b[38;5;124mWhat is the next number?: \u001b[39m\u001b[38;5;124m\"\u001b[39m))\n\u001b[1;32m---> 11\u001b[0m answer \u001b[38;5;241m=\u001b[39m operations[operation_symbol](num1, num2)\n\u001b[0;32m     12\u001b[0m \u001b[38;5;28mprint\u001b[39m(\u001b[38;5;124mf\u001b[39m\u001b[38;5;124m\"\u001b[39m\u001b[38;5;132;01m{\u001b[39;00mnum1\u001b[38;5;132;01m}\u001b[39;00m\u001b[38;5;124m \u001b[39m\u001b[38;5;132;01m{\u001b[39;00moperation_symbol\u001b[38;5;132;01m}\u001b[39;00m\u001b[38;5;124m \u001b[39m\u001b[38;5;132;01m{\u001b[39;00mnum2\u001b[38;5;132;01m}\u001b[39;00m\u001b[38;5;124m = \u001b[39m\u001b[38;5;132;01m{\u001b[39;00manswer\u001b[38;5;132;01m}\u001b[39;00m\u001b[38;5;124m\"\u001b[39m)\n\u001b[0;32m     14\u001b[0m choice \u001b[38;5;241m=\u001b[39m \u001b[38;5;28minput\u001b[39m(\u001b[38;5;124mf\u001b[39m\u001b[38;5;124m\"\u001b[39m\u001b[38;5;124mType \u001b[39m\u001b[38;5;124m'\u001b[39m\u001b[38;5;124my\u001b[39m\u001b[38;5;124m'\u001b[39m\u001b[38;5;124m to continue calculating with \u001b[39m\u001b[38;5;132;01m{\u001b[39;00manswer\u001b[38;5;132;01m}\u001b[39;00m\u001b[38;5;124m, or type \u001b[39m\u001b[38;5;124m'\u001b[39m\u001b[38;5;124mn\u001b[39m\u001b[38;5;124m'\u001b[39m\u001b[38;5;124m to start a new calculation: \u001b[39m\u001b[38;5;124m\"\u001b[39m)\n",
      "\u001b[1;31mKeyError\u001b[0m: '33'"
     ]
    }
   ],
   "source": [
    "\n",
    "calculator()"
   ]
  },
  {
   "cell_type": "code",
   "execution_count": null,
   "id": "64ceeb0a-ea9a-42e2-84ef-1b4810f8ef3d",
   "metadata": {},
   "outputs": [],
   "source": []
  }
 ],
 "metadata": {
  "kernelspec": {
   "display_name": "Python 3 (ipykernel)",
   "language": "python",
   "name": "python3"
  },
  "language_info": {
   "codemirror_mode": {
    "name": "ipython",
    "version": 3
   },
   "file_extension": ".py",
   "mimetype": "text/x-python",
   "name": "python",
   "nbconvert_exporter": "python",
   "pygments_lexer": "ipython3",
   "version": "3.12.7"
  }
 },
 "nbformat": 4,
 "nbformat_minor": 5
}
