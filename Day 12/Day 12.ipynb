{
 "cells": [
  {
   "cell_type": "code",
   "execution_count": 1,
   "id": "1750a84c-63a8-41af-8430-aeed2acbc5fb",
   "metadata": {},
   "outputs": [],
   "source": [
    "## Is Prime?\n",
    "def is_prime(num):\n",
    "    is_prime =1\n",
    "    for i in range(num-1):\n",
    "        if num%(i+1) == 0:\n",
    "            is_prime += 1\n",
    "        if is_prime >2:\n",
    "            return False\n",
    "    return True\n",
    "        \n",
    "    "
   ]
  },
  {
   "cell_type": "code",
   "execution_count": 2,
   "id": "a7a7e2aa-1b89-4335-a06f-be3267797fe2",
   "metadata": {},
   "outputs": [
    {
     "data": {
      "text/plain": [
       "True"
      ]
     },
     "execution_count": 2,
     "metadata": {},
     "output_type": "execute_result"
    }
   ],
   "source": [
    "is_prime(73)"
   ]
  },
  {
   "cell_type": "code",
   "execution_count": 3,
   "id": "dd61c954-0bef-4eb9-aada-e457169e39f3",
   "metadata": {},
   "outputs": [
    {
     "data": {
      "text/plain": [
       "False"
      ]
     },
     "execution_count": 3,
     "metadata": {},
     "output_type": "execute_result"
    }
   ],
   "source": [
    "is_prime(731)"
   ]
  },
  {
   "cell_type": "code",
   "execution_count": 6,
   "id": "fa382619-37a9-47ab-8026-46964f875589",
   "metadata": {},
   "outputs": [],
   "source": [
    "def is_prime(num):\n",
    "    if num == 2:\n",
    "        return True\n",
    "    if num == 1:\n",
    "        return False\n",
    " \n",
    "    # Loop through all the numbers between 2 and the number\n",
    "    for i in range(2, num):\n",
    "        # Check if the number (num) can be divided by the potential prime number\n",
    "        if num % i == 0:\n",
    "            return False\n",
    "    else :\n",
    "        return True\n",
    " "
   ]
  },
  {
   "cell_type": "code",
   "execution_count": 7,
   "id": "5de3f2c8-70e9-481e-a642-b0fa2f330045",
   "metadata": {},
   "outputs": [
    {
     "data": {
      "text/plain": [
       "True"
      ]
     },
     "execution_count": 7,
     "metadata": {},
     "output_type": "execute_result"
    }
   ],
   "source": [
    "is_prime(73)"
   ]
  },
  {
   "cell_type": "code",
   "execution_count": 8,
   "id": "fbec0581-2017-4faf-8486-77e407354fc7",
   "metadata": {},
   "outputs": [
    {
     "data": {
      "text/plain": [
       "False"
      ]
     },
     "execution_count": 8,
     "metadata": {},
     "output_type": "execute_result"
    }
   ],
   "source": [
    "is_prime(713)"
   ]
  },
  {
   "cell_type": "code",
   "execution_count": 15,
   "id": "60d128b9-8cc1-4fdc-a255-ef0d6d9688f3",
   "metadata": {},
   "outputs": [
    {
     "name": "stdout",
     "output_type": "stream",
     "text": [
      "Skeleton\n"
     ]
    }
   ],
   "source": [
    "game_level = 10\n",
    "enemies = [\"Skeleton\", \"Zombie\", \"Alien\"]\n",
    "\n",
    "\n",
    "def create_enemy():\n",
    "    new_enemy = \"\"\n",
    "    if game_level > 5:\n",
    "        new_enemy = enemies[0]\n",
    "    print(new_enemy)\n",
    "create_enemy()"
   ]
  },
  {
   "cell_type": "code",
   "execution_count": 18,
   "id": "e757cec9-4064-45e5-923e-c8e083baa2b1",
   "metadata": {},
   "outputs": [
    {
     "name": "stdout",
     "output_type": "stream",
     "text": [
      "Welcome to the Number Guessing Game!\n",
      "I'm thinking of a number between 1 and 100.\n",
      "Pssst, the correct answer is 80\n"
     ]
    },
    {
     "name": "stdin",
     "output_type": "stream",
     "text": [
      "Choose a difficulty. Type 'easy' or 'hard':  1\n"
     ]
    },
    {
     "name": "stdout",
     "output_type": "stream",
     "text": [
      "You have 5 attempts remaining to guess the number.\n"
     ]
    },
    {
     "name": "stdin",
     "output_type": "stream",
     "text": [
      "Make a guess:  5\n"
     ]
    },
    {
     "name": "stdout",
     "output_type": "stream",
     "text": [
      "Too low.\n",
      "Guess again.\n",
      "You have 4 attempts remaining to guess the number.\n"
     ]
    },
    {
     "name": "stdin",
     "output_type": "stream",
     "text": [
      "Make a guess:  2\n"
     ]
    },
    {
     "name": "stdout",
     "output_type": "stream",
     "text": [
      "Too low.\n",
      "Guess again.\n",
      "You have 3 attempts remaining to guess the number.\n"
     ]
    },
    {
     "name": "stdin",
     "output_type": "stream",
     "text": [
      "Make a guess:  22\n"
     ]
    },
    {
     "name": "stdout",
     "output_type": "stream",
     "text": [
      "Too low.\n",
      "Guess again.\n",
      "You have 2 attempts remaining to guess the number.\n"
     ]
    },
    {
     "name": "stdin",
     "output_type": "stream",
     "text": [
      "Make a guess:  1\n"
     ]
    },
    {
     "name": "stdout",
     "output_type": "stream",
     "text": [
      "Too low.\n",
      "Guess again.\n",
      "You have 1 attempts remaining to guess the number.\n"
     ]
    },
    {
     "name": "stdin",
     "output_type": "stream",
     "text": [
      "Make a guess:  1\n"
     ]
    },
    {
     "name": "stdout",
     "output_type": "stream",
     "text": [
      "Too low.\n",
      "You've run out of guesses, you lose.\n"
     ]
    }
   ],
   "source": [
    "from random import randint\n",
    "\n",
    "EASY_LEVEL_TURNS = 10\n",
    "HARD_LEVEL_TURNS = 5\n",
    "\n",
    "\n",
    "# Function to check users' guess against actual answer\n",
    "def check_answer(user_guess, actual_answer, turns):\n",
    "    \"\"\"Checks answer against guess, returns the number of turns remaining.\"\"\"\n",
    "    if user_guess > actual_answer:\n",
    "        print(\"Too high.\")\n",
    "        return turns - 1\n",
    "    elif user_guess < actual_answer:\n",
    "        print(\"Too low.\")\n",
    "        return turns - 1\n",
    "    else:\n",
    "        print(f\"You got it! The answer was {actual_answer}\")\n",
    "\n",
    "\n",
    "# Function to set difficulty\n",
    "def set_difficulty():\n",
    "    level = input(\"Choose a difficulty. Type 'easy' or 'hard': \")\n",
    "    if level == \"easy\":\n",
    "        return EASY_LEVEL_TURNS\n",
    "    else:\n",
    "        return HARD_LEVEL_TURNS\n",
    "\n",
    "\n",
    "def game():\n",
    "    # Choosing a random number between 1 and 100.\n",
    "    print(\"Welcome to the Number Guessing Game!\")\n",
    "    print(\"I'm thinking of a number between 1 and 100.\")\n",
    "    answer = randint(1, 100)\n",
    "    print(f\"Pssst, the correct answer is {answer}\")\n",
    "\n",
    "    turns = set_difficulty()\n",
    "\n",
    "    # Repeat the guessing functionality if they get it wrong.\n",
    "    guess = 0\n",
    "    while guess != answer:\n",
    "        print(f\"You have {turns} attempts remaining to guess the number.\")\n",
    "        # Let the user guess a number\n",
    "        guess = int(input(\"Make a guess: \"))\n",
    "        # Track the number of turns and reduce by 1 if they get it wrong\n",
    "        turns = check_answer(guess, answer, turns)\n",
    "        if turns == 0:\n",
    "            print(\"You've run out of guesses, you lose.\")\n",
    "            return\n",
    "        elif guess != answer:\n",
    "            print(\"Guess again.\")\n",
    "\n",
    "\n",
    "\n",
    "\n",
    "game()\n"
   ]
  },
  {
   "cell_type": "code",
   "execution_count": null,
   "id": "31cd72d8-149c-43ea-af45-77e1718db376",
   "metadata": {},
   "outputs": [],
   "source": []
  }
 ],
 "metadata": {
  "kernelspec": {
   "display_name": "Python 3 (ipykernel)",
   "language": "python",
   "name": "python3"
  },
  "language_info": {
   "codemirror_mode": {
    "name": "ipython",
    "version": 3
   },
   "file_extension": ".py",
   "mimetype": "text/x-python",
   "name": "python",
   "nbconvert_exporter": "python",
   "pygments_lexer": "ipython3",
   "version": "3.12.7"
  }
 },
 "nbformat": 4,
 "nbformat_minor": 5
}
