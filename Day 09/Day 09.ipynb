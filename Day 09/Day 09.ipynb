{
 "cells": [
  {
   "cell_type": "code",
   "execution_count": 1,
   "id": "a2cfe44e-a5c5-41a9-aaa4-318b0e9ab9af",
   "metadata": {},
   "outputs": [
    {
     "name": "stdout",
     "output_type": "stream",
     "text": [
      "{'France': 'Paris', 'Germany': 'Berlin'}\n"
     ]
    }
   ],
   "source": [
    "capitals = {\n",
    "    \"France\": \"Paris\",\n",
    "    \"Germany\":\"Berlin\"\n",
    "}\n",
    "print(capitals)"
   ]
  },
  {
   "cell_type": "code",
   "execution_count": 2,
   "id": "d94ad6f5-c939-474f-a2b1-cb8e2250556b",
   "metadata": {},
   "outputs": [
    {
     "name": "stdout",
     "output_type": "stream",
     "text": [
      "{'France': ['Paris', 'Lile', 'Dijon'], 'Germany': ['Stuttgart', 'Berlin'], 'India': 'Delhi'}\n"
     ]
    }
   ],
   "source": [
    "travel_logs={\n",
    "\n",
    "    \"France\" :[\"Paris\",\"Lile\",\"Dijon\"],\n",
    "    \"Germany\":[\"Stuttgart\",\"Berlin\"],\n",
    "    \"India\":\"Delhi\",\n",
    "}\n",
    "print(travel_logs)"
   ]
  },
  {
   "cell_type": "code",
   "execution_count": 3,
   "id": "d434b579-edce-464d-8d0b-47c218a16c59",
   "metadata": {},
   "outputs": [
    {
     "data": {
      "text/plain": [
       "'Lile'"
      ]
     },
     "execution_count": 3,
     "metadata": {},
     "output_type": "execute_result"
    }
   ],
   "source": [
    "travel_logs[\"France\"][1]"
   ]
  },
  {
   "cell_type": "code",
   "execution_count": 4,
   "id": "dcbb3f8e",
   "metadata": {},
   "outputs": [
    {
     "name": "stdout",
     "output_type": "stream",
     "text": [
      "D\n"
     ]
    }
   ],
   "source": [
    "nested_list=[\"A\",\"B\",[\"C\",\"D\"]]\n",
    "print(nested_list[2][1])"
   ]
  },
  {
   "cell_type": "code",
   "execution_count": 5,
   "id": "e7a7327c-7115-4e9b-b470-1d1103d5f7dc",
   "metadata": {},
   "outputs": [],
   "source": [
    "travel_logs_det={\n",
    "\n",
    "    \"France\" :{\n",
    "        \"num_times_visited\":8,\n",
    "        \"Cities_visited\": [\"Paris\",\"Lile\",\"Dijon\"],\n",
    "    },\n",
    "    \"Germany\":{\n",
    "        \"num_times_visited\":5,\n",
    "        \"Cities_visited\":[\"Stuttgart\",\"Berlin\"],\n",
    "    },\n",
    "    \"India\":\"Delhi\",\n",
    "}"
   ]
  },
  {
   "cell_type": "code",
   "execution_count": 6,
   "id": "29565eb7-5f28-45ff-984a-fb1f726c2625",
   "metadata": {},
   "outputs": [
    {
     "data": {
      "text/plain": [
       "8"
      ]
     },
     "execution_count": 6,
     "metadata": {},
     "output_type": "execute_result"
    }
   ],
   "source": [
    "travel_logs_det[\"France\"][\"num_times_visited\"]"
   ]
  },
  {
   "cell_type": "code",
   "execution_count": 7,
   "id": "5531b593",
   "metadata": {},
   "outputs": [
    {
     "data": {
      "text/plain": [
       "['Paris', 'Lile', 'Dijon']"
      ]
     },
     "execution_count": 7,
     "metadata": {},
     "output_type": "execute_result"
    }
   ],
   "source": [
    "travel_logs_det[\"France\"][\"Cities_visited\"]"
   ]
  },
  {
   "cell_type": "code",
   "execution_count": 8,
   "id": "3a78dc22",
   "metadata": {},
   "outputs": [
    {
     "data": {
      "text/plain": [
       "'Lile'"
      ]
     },
     "execution_count": 8,
     "metadata": {},
     "output_type": "execute_result"
    }
   ],
   "source": [
    "travel_logs_det[\"France\"][\"Cities_visited\"][1]"
   ]
  },
  {
   "cell_type": "code",
   "execution_count": 9,
   "id": "fb234c87-aa75-49af-b918-6d43ddce635c",
   "metadata": {},
   "outputs": [],
   "source": [
    "# from clear_screen import clear\n",
    "\n",
    "Dict ={\n",
    "    \n",
    "}\n",
    "choice = True"
   ]
  },
  {
   "cell_type": "code",
   "execution_count": 10,
   "id": "9ee27f1c-db34-40e0-8ae3-24ced7c52ea7",
   "metadata": {},
   "outputs": [
    {
     "name": "stdin",
     "output_type": "stream",
     "text": [
      "What is your name?: ANjali\n",
      "What is your bid?: $ 5\n",
      "Are there any other bidders? Type 'yes or 'no' yes\n",
      "What is your name?: shivam\n",
      "What is your bid?: $ 8\n",
      "Are there any other bidders? Type 'yes or 'no' yes\n",
      "What is your name?: Anju\n",
      "What is your bid?: $ 85\n",
      "Are there any other bidders? Type 'yes or 'no' yes\n",
      "What is your name?: Jyoti\n",
      "What is your bid?: $ 90\n",
      "Are there any other bidders? Type 'yes or 'no' no\n"
     ]
    },
    {
     "name": "stdout",
     "output_type": "stream",
     "text": [
      "The winner is Jyoti with a bid of $90.0\n"
     ]
    }
   ],
   "source": [
    "while choice:\n",
    "    name = input(\"What is your name?:\")\n",
    "    bid = float(input(\"What is your bid?: $\"))\n",
    "    Dict[name] = bid\n",
    "    bidders = input(\"Are there any other bidders? Type 'yes or 'no'\").lower()\n",
    "    if bidders == \"no\":\n",
    "        maxi = 0\n",
    "        for i in Dict:\n",
    "            if Dict[i]>= maxi:\n",
    "                winner_name = i\n",
    "        print(f\"The winner is {winner_name} with a bid of ${Dict[winner_name]}\")\n",
    "        choice = False\n",
    "    #clear() \n",
    "   "
   ]
  },
  {
   "cell_type": "code",
   "execution_count": null,
   "id": "f6a9118a-d596-4385-baa6-841e12c6a226",
   "metadata": {},
   "outputs": [],
   "source": []
  }
 ],
 "metadata": {
  "kernelspec": {
   "display_name": "Python 3 (ipykernel)",
   "language": "python",
   "name": "python3"
  },
  "language_info": {
   "codemirror_mode": {
    "name": "ipython",
    "version": 3
   },
   "file_extension": ".py",
   "mimetype": "text/x-python",
   "name": "python",
   "nbconvert_exporter": "python",
   "pygments_lexer": "ipython3",
   "version": "3.12.7"
  }
 },
 "nbformat": 4,
 "nbformat_minor": 5
}
