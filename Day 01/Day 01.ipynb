{
 "cells": [
  {
   "cell_type": "code",
   "execution_count": 1,
   "id": "1d2e7049-4234-4236-985b-40e4792fdb9f",
   "metadata": {},
   "outputs": [
    {
     "name": "stdout",
     "output_type": "stream",
     "text": [
      "Hello world!\n"
     ]
    }
   ],
   "source": [
    "## Task 01\n",
    "print(\"Hello world!\")"
   ]
  },
  {
   "cell_type": "code",
   "execution_count": 2,
   "id": "8457a02d-9a0b-4342-99fd-32a0e1194f39",
   "metadata": {},
   "outputs": [
    {
     "name": "stdout",
     "output_type": "stream",
     "text": [
      "Hello world!\n",
      "Hello world!\n",
      "Hello world!\n",
      "\n",
      "Hello Anjali\n"
     ]
    }
   ],
   "source": [
    "# Task 02\n",
    "print(\"Hello world!\\nHello world!\\nHello world!\\n\")\n",
    "print(\"Hello \"+\"Anjali\")"
   ]
  },
  {
   "cell_type": "code",
   "execution_count": 3,
   "id": "dc277274-2057-4b9c-b774-1fc20f099da9",
   "metadata": {},
   "outputs": [
    {
     "name": "stdin",
     "output_type": "stream",
     "text": [
      "What is your name?  Anjali\n"
     ]
    },
    {
     "name": "stdout",
     "output_type": "stream",
     "text": [
      "My name is Anjali\n"
     ]
    }
   ],
   "source": [
    "## Task 03\n",
    "name = input(\"What is your name? \")\n",
    "print(\"My name is\" + \" \" + name)"
   ]
  },
  {
   "cell_type": "code",
   "execution_count": 4,
   "id": "4f67e04c-eb30-4d98-a5d5-7bcb2001c00c",
   "metadata": {},
   "outputs": [
    {
     "name": "stdin",
     "output_type": "stream",
     "text": [
      "What is your name? Anjali Yadav\n"
     ]
    },
    {
     "name": "stdout",
     "output_type": "stream",
     "text": [
      "Name : Anjali Yadav Name Length :12\n"
     ]
    }
   ],
   "source": [
    "## Task 04\n",
    "username = input(\"What is your name?\")\n",
    "length = len(username)\n",
    "print(\"Name : \"+ username +\" Name Length :\"+ str(length))"
   ]
  },
  {
   "cell_type": "code",
   "execution_count": 5,
   "id": "92498acc-ed46-4eee-a6fc-c6215717cf7d",
   "metadata": {},
   "outputs": [
    {
     "name": "stdout",
     "output_type": "stream",
     "text": [
      "6\n"
     ]
    }
   ],
   "source": [
    "## Task 05\n",
    "username = \"Angela\"\n",
    "length = len(username)\n",
    "print(length)"
   ]
  },
  {
   "cell_type": "code",
   "execution_count": 7,
   "id": "cbe12171-824a-44cb-83c8-0240bcd01821",
   "metadata": {},
   "outputs": [
    {
     "name": "stdout",
     "output_type": "stream",
     "text": [
      "Hello, Welcome to the band name generator !!\n"
     ]
    },
    {
     "name": "stdin",
     "output_type": "stream",
     "text": [
      "Which city you grew up in ?\n",
      "  delhi\n",
      "What's your pet's name? \n",
      " anja\n"
     ]
    },
    {
     "name": "stdout",
     "output_type": "stream",
     "text": [
      "Your band name can be delhi anja\n"
     ]
    }
   ],
   "source": [
    "## Final Project\n",
    "print(\"Hello, Welcome to the band name generator !!\")\n",
    "cityname = input (\"Which city you grew up in ?\\n \")\n",
    "petname = input(\"What's your pet's name? \\n\")\n",
    "print(\"Your band name can be \"+cityname+ \" \"+petname)"
   ]
  },
  {
   "cell_type": "code",
   "execution_count": null,
   "id": "967b5d3d-0595-4bcf-aa7e-415c979ebbda",
   "metadata": {},
   "outputs": [],
   "source": []
  }
 ],
 "metadata": {
  "kernelspec": {
   "display_name": "Python 3 (ipykernel)",
   "language": "python",
   "name": "python3"
  },
  "language_info": {
   "codemirror_mode": {
    "name": "ipython",
    "version": 3
   },
   "file_extension": ".py",
   "mimetype": "text/x-python",
   "name": "python",
   "nbconvert_exporter": "python",
   "pygments_lexer": "ipython3",
   "version": "3.12.7"
  }
 },
 "nbformat": 4,
 "nbformat_minor": 5
}
