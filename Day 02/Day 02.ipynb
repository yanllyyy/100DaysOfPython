{
 "cells": [
  {
   "cell_type": "code",
   "execution_count": 1,
   "id": "dc1a6d9f-87e9-4b9d-9cc2-3d8cfcc092eb",
   "metadata": {},
   "outputs": [
    {
     "name": "stdout",
     "output_type": "stream",
     "text": [
      "<class 'str'>\n",
      "<class 'str'>\n",
      "<class 'int'>\n",
      "<class 'float'>\n",
      "<class 'bool'>\n"
     ]
    }
   ],
   "source": [
    "## Task 01: Primitive Data Types\n",
    "name = \"ANjali\"\n",
    "number = \"123\"\n",
    "a =22489345\n",
    "b= 4.01512\n",
    "bol = True\n",
    "\n",
    "print(type(name))\n",
    "print(type(number))\n",
    "print(type(a))\n",
    "print(type(b))\n",
    "print(type(bol))"
   ]
  },
  {
   "cell_type": "code",
   "execution_count": 2,
   "id": "089a9b53-34ad-49bd-89ab-06a807071b21",
   "metadata": {},
   "outputs": [
    {
     "ename": "TypeError",
     "evalue": "object of type 'int' has no len()",
     "output_type": "error",
     "traceback": [
      "\u001b[1;31m---------------------------------------------------------------------------\u001b[0m",
      "\u001b[1;31mTypeError\u001b[0m                                 Traceback (most recent call last)",
      "Cell \u001b[1;32mIn[2], line 2\u001b[0m\n\u001b[0;32m      1\u001b[0m \u001b[38;5;66;03m## Task 02 Types of Error\u001b[39;00m\n\u001b[1;32m----> 2\u001b[0m \u001b[38;5;28mprint\u001b[39m(\u001b[38;5;28mlen\u001b[39m(\u001b[38;5;241m12345\u001b[39m))\n",
      "\u001b[1;31mTypeError\u001b[0m: object of type 'int' has no len()"
     ]
    }
   ],
   "source": [
    "## Task 02 Types of Error\n",
    "print(len(12345))\n"
   ]
  },
  {
   "cell_type": "code",
   "execution_count": 3,
   "id": "24c4dac8-c6af-41c4-bcc5-bfffd3f1f4c8",
   "metadata": {},
   "outputs": [
    {
     "name": "stdout",
     "output_type": "stream",
     "text": [
      "<class 'int'>\n",
      "<class 'float'>\n",
      "<class 'str'>\n",
      "<class 'bool'>\n"
     ]
    }
   ],
   "source": [
    "print(type(123))\n",
    "print(type(123.0))\n",
    "print(type(\"Anjali\"))\n",
    "print(type(True))"
   ]
  },
  {
   "cell_type": "code",
   "execution_count": 4,
   "id": "1edb491f-4d5a-4e97-b67b-89858cf18ac4",
   "metadata": {},
   "outputs": [
    {
     "name": "stdout",
     "output_type": "stream",
     "text": [
      "5\n",
      "6\n",
      "5\n"
     ]
    }
   ],
   "source": [
    "print(len(\"12345\"))\n",
    "print(len(\"ANjali\"))\n",
    "print(len(str(12345))) ## Type casting"
   ]
  },
  {
   "cell_type": "code",
   "execution_count": 5,
   "id": "d37bc3e7-23fe-451a-9421-ad9f430398b0",
   "metadata": {},
   "outputs": [
    {
     "name": "stdout",
     "output_type": "stream",
     "text": [
      "7.0\n"
     ]
    }
   ],
   "source": [
    "## Task 03\n",
    "print(3 * 3 + 3 / 3 - 3)"
   ]
  },
  {
   "cell_type": "code",
   "execution_count": 6,
   "id": "95334c68-789b-4700-adec-771fcbfe7d48",
   "metadata": {},
   "outputs": [
    {
     "name": "stdout",
     "output_type": "stream",
     "text": [
      "7.0\n"
     ]
    }
   ],
   "source": [
    "print(3 * 3 + 3 / 3 - 3) ##  Change the code so it outputs 3?"
   ]
  },
  {
   "cell_type": "code",
   "execution_count": 7,
   "id": "b06bef11-0a02-4a28-bd44-f2a77b6ea831",
   "metadata": {},
   "outputs": [
    {
     "name": "stdout",
     "output_type": "stream",
     "text": [
      "3.0\n"
     ]
    }
   ],
   "source": [
    "print(3 * (3 + 3) / 3 - 3)"
   ]
  },
  {
   "cell_type": "code",
   "execution_count": 8,
   "id": "c77a9002-3362-4af3-af37-ba9f3715fd54",
   "metadata": {},
   "outputs": [
    {
     "name": "stdout",
     "output_type": "stream",
     "text": [
      "579\n",
      "4\n",
      "6\n",
      "4.5\n",
      "2\n"
     ]
    }
   ],
   "source": [
    "print(123+456)\n",
    "print(7-3)\n",
    "print(3*2)\n",
    "print(9/2)\n",
    "print(6//3)"
   ]
  },
  {
   "cell_type": "code",
   "execution_count": 9,
   "id": "f38c7048-e163-42b1-b781-1c10e4c8c58d",
   "metadata": {},
   "outputs": [
    {
     "data": {
      "text/plain": [
       "3"
      ]
     },
     "execution_count": 9,
     "metadata": {},
     "output_type": "execute_result"
    }
   ],
   "source": [
    "## Task 04\n",
    "## +=, -= , *=, /=\n",
    "int(3.738492) "
   ]
  },
  {
   "cell_type": "code",
   "execution_count": 10,
   "id": "fd3a8682-e95c-4ead-af23-fbe8d19a8eac",
   "metadata": {},
   "outputs": [
    {
     "name": "stdout",
     "output_type": "stream",
     "text": [
      "120\n",
      "70\n",
      "1400\n",
      "46.666666666666664\n"
     ]
    }
   ],
   "source": [
    "score = 100\n",
    "score += 20\n",
    "print(score)\n",
    "score -= 50\n",
    "print(score)\n",
    "score *= 20\n",
    "print(score)\n",
    "score /= 30\n",
    "print(score)"
   ]
  },
  {
   "cell_type": "code",
   "execution_count": 11,
   "id": "73ecd35d-9915-4ead-8d0f-1de78b1d7656",
   "metadata": {},
   "outputs": [
    {
     "data": {
      "text/plain": [
       "4"
      ]
     },
     "execution_count": 11,
     "metadata": {},
     "output_type": "execute_result"
    }
   ],
   "source": [
    "round(3.738492) # Becomes 4"
   ]
  },
  {
   "cell_type": "code",
   "execution_count": 12,
   "id": "17dd7c1d-e2a6-4562-b432-89e507dbfb39",
   "metadata": {},
   "outputs": [
    {
     "data": {
      "text/plain": [
       "3"
      ]
     },
     "execution_count": 12,
     "metadata": {},
     "output_type": "execute_result"
    }
   ],
   "source": [
    "round(3.14159) # Becomes 3\n"
   ]
  },
  {
   "cell_type": "code",
   "execution_count": 13,
   "id": "6191af99-034e-4a94-a2c3-f54f8b5ee60a",
   "metadata": {},
   "outputs": [
    {
     "data": {
      "text/plain": [
       "3.14"
      ]
     },
     "execution_count": 13,
     "metadata": {},
     "output_type": "execute_result"
    }
   ],
   "source": [
    "round(3.14159, 2) # Becomes 3.14"
   ]
  },
  {
   "cell_type": "code",
   "execution_count": 14,
   "id": "cab2450b-f18f-4555-a430-3c50d0ee48e6",
   "metadata": {},
   "outputs": [
    {
     "name": "stdout",
     "output_type": "stream",
     "text": [
      "30.85\n"
     ]
    }
   ],
   "source": [
    "bmi = 84 / 1.65 ** 2\n",
    "print(round(bmi,2))"
   ]
  },
  {
   "cell_type": "code",
   "execution_count": 15,
   "id": "3f5f2739-1aaa-45fe-be14-13b87922494e",
   "metadata": {},
   "outputs": [
    {
     "name": "stdout",
     "output_type": "stream",
     "text": [
      "I am 12 years old\n"
     ]
    }
   ],
   "source": [
    "age = 12\n",
    "print(f\"I am {age} years old\")"
   ]
  },
  {
   "cell_type": "code",
   "execution_count": 18,
   "id": "eda9eb2e-3466-4e78-ab87-abd97109dbf2",
   "metadata": {},
   "outputs": [
    {
     "name": "stdout",
     "output_type": "stream",
     "text": [
      "Welcome to the tip calculator!\n"
     ]
    },
    {
     "name": "stdin",
     "output_type": "stream",
     "text": [
      "What was the total bill? $ 124.56\n",
      "What percentage tip would you like to give? 10 12 15  12\n",
      "How many people to split the bill?  7\n"
     ]
    },
    {
     "name": "stdout",
     "output_type": "stream",
     "text": [
      "Each person should pay: $19.93\n"
     ]
    }
   ],
   "source": [
    "## Final Project\n",
    "\n",
    "print(\"Welcome to the tip calculator!\")\n",
    "bill = float(input(\"What was the total bill? $\"))\n",
    "tip = int(input(\"What percentage tip would you like to give? 10 12 15 \"))\n",
    "people = int(input(\"How many people to split the bill? \"))\n",
    "total_bill = (bill + (bill * tip* 0.01))/people\n",
    "print(f\"Each person should pay: ${round(total_bill,2)}\")"
   ]
  },
  {
   "cell_type": "code",
   "execution_count": null,
   "id": "f68aa487-994d-4de4-b2bf-d519d44f478a",
   "metadata": {},
   "outputs": [],
   "source": []
  },
  {
   "cell_type": "code",
   "execution_count": null,
   "id": "9c8bdd2a-f2bb-47bc-ad0d-b09de6414e82",
   "metadata": {},
   "outputs": [],
   "source": []
  }
 ],
 "metadata": {
  "kernelspec": {
   "display_name": "Python 3 (ipykernel)",
   "language": "python",
   "name": "python3"
  },
  "language_info": {
   "codemirror_mode": {
    "name": "ipython",
    "version": 3
   },
   "file_extension": ".py",
   "mimetype": "text/x-python",
   "name": "python",
   "nbconvert_exporter": "python",
   "pygments_lexer": "ipython3",
   "version": "3.12.7"
  }
 },
 "nbformat": 4,
 "nbformat_minor": 5
}
